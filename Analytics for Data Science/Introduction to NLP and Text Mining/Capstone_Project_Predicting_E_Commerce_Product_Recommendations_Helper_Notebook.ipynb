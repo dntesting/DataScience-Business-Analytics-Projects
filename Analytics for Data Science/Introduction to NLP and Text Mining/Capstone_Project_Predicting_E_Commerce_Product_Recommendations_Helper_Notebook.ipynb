{
  "nbformat": 4,
  "nbformat_minor": 0,
  "metadata": {
    "kernelspec": {
      "display_name": "Python 3",
      "language": "python",
      "name": "python3"
    },
    "language_info": {
      "codemirror_mode": {
        "name": "ipython",
        "version": 3
      },
      "file_extension": ".py",
      "mimetype": "text/x-python",
      "name": "python",
      "nbconvert_exporter": "python",
      "pygments_lexer": "ipython3",
      "version": "3.6.5"
    },
    "colab": {
      "name": "Capstone_Project_Predicting_E_Commerce_Product_Recommendations_Helper_Notebook_Dulari.ipynb",
      "provenance": [],
      "collapsed_sections": [],
      "toc_visible": true
    }
  },
  "cells": [
    {
      "cell_type": "markdown",
      "metadata": {
        "id": "o59YEk-scHBE"
      },
      "source": [
        "# __Capstone Project: Predicting E-Commerce Product Recommendations__\n",
        "---\n",
        "\n",
        "\n",
        "\n",
        "![](https://github.com/dipanjanS/feature_engineering_session_dhs18/blob/master/ecommerce_product_ratings_prediction/clothing_banner.jpg?raw=1)\n",
        "\n",
        "\n",
        "__Background:__\n",
        "\n",
        "This is a classic NLP problem dealing with data from an e-commerce store focusing on women's clothing. Each record in the dataset is a customer review which consists of the review title, text description and a rating (ranging from 1 - 5) for a product amongst other features. Because this is real commercial data, it has been anonymized, and references to the company in the review text and body have been replaced with “retailer”. \n",
        "\n",
        "\n",
        "<br/>\n",
        "\n",
        "__Main Objective:__ \n",
        "\n",
        "Leverage the review text attributes amongst other structured features to build a supervised predictive model to predict if the product is recommended by the customer or not (1 or 0) based on the given attributes (and derived features)\n",
        "\n",
        "<br/>\n",
        "\n",
        "__Objectives for the capstone:__\n",
        "\n",
        "- Phase 1: Data Retrieval and Understanding\n",
        "- Phase 2: Basic Exploratory Data Analysis\n",
        "- Phase 3: Feature Engineering and Modeling\n",
        "- Phase 4: Evaluation, Insights, Recommendations and Report\n",
        "\n"
      ]
    },
    {
      "cell_type": "markdown",
      "metadata": {
        "id": "IVlBKLnPw3f0"
      },
      "source": [
        "# ___Phase 1: Data Retrieval and Understanding___"
      ]
    },
    {
      "cell_type": "markdown",
      "metadata": {
        "id": "SMrbDGQqcHBM"
      },
      "source": [
        "## Load up basic dependencies"
      ]
    },
    {
      "cell_type": "code",
      "metadata": {
        "id": "Vv0kEcvPcHBN"
      },
      "source": [
        "import numpy as np\n",
        "import pandas as pd\n",
        "import nltk\n",
        "from nltk.tokenize import RegexpTokenizer\n",
        "from nltk.stem import WordNetLemmatizer,PorterStemmer\n",
        "import re\n",
        "import string\n",
        "lemmatizer = WordNetLemmatizer()\n",
        "stemmer = PorterStemmer() \n",
        "from string import punctuation"
      ],
      "execution_count": null,
      "outputs": []
    },
    {
      "cell_type": "markdown",
      "metadata": {
        "id": "F01oVBEacHBO"
      },
      "source": [
        "## Load and View the Dataset\n",
        "\n",
        "The data is available at https://www.kaggle.com/nicapotato/womens-ecommerce-clothing-reviews \n"
      ]
    },
    {
      "cell_type": "code",
      "metadata": {
        "scrolled": true,
        "id": "KQlJRLE-cHBO",
        "colab": {
          "base_uri": "https://localhost:8080/",
          "height": 415
        },
        "outputId": "e9560b33-87cf-4b83-97b5-87e720b1dd27"
      },
      "source": [
        "df = pd.read_csv('https://github.com/dipanjanS/text-analytics-with-python/raw/master/media/Womens%20Clothing%20E-Commerce%20Reviews%20-%20NLP.csv', keep_default_na=False)\n",
        "df.head()"
      ],
      "execution_count": null,
      "outputs": [
        {
          "output_type": "execute_result",
          "data": {
            "text/html": [
              "<div>\n",
              "<style scoped>\n",
              "    .dataframe tbody tr th:only-of-type {\n",
              "        vertical-align: middle;\n",
              "    }\n",
              "\n",
              "    .dataframe tbody tr th {\n",
              "        vertical-align: top;\n",
              "    }\n",
              "\n",
              "    .dataframe thead th {\n",
              "        text-align: right;\n",
              "    }\n",
              "</style>\n",
              "<table border=\"1\" class=\"dataframe\">\n",
              "  <thead>\n",
              "    <tr style=\"text-align: right;\">\n",
              "      <th></th>\n",
              "      <th>Clothing ID</th>\n",
              "      <th>Age</th>\n",
              "      <th>Title</th>\n",
              "      <th>Review Text</th>\n",
              "      <th>Rating</th>\n",
              "      <th>Recommended IND</th>\n",
              "      <th>Positive Feedback Count</th>\n",
              "      <th>Division Name</th>\n",
              "      <th>Department Name</th>\n",
              "      <th>Class Name</th>\n",
              "    </tr>\n",
              "  </thead>\n",
              "  <tbody>\n",
              "    <tr>\n",
              "      <th>0</th>\n",
              "      <td>767</td>\n",
              "      <td>33</td>\n",
              "      <td></td>\n",
              "      <td>Absolutely wonderful - silky and sexy and comf...</td>\n",
              "      <td>4</td>\n",
              "      <td>1</td>\n",
              "      <td>0</td>\n",
              "      <td>Initmates</td>\n",
              "      <td>Intimate</td>\n",
              "      <td>Intimates</td>\n",
              "    </tr>\n",
              "    <tr>\n",
              "      <th>1</th>\n",
              "      <td>1080</td>\n",
              "      <td>34</td>\n",
              "      <td></td>\n",
              "      <td>Love this dress!  it's sooo pretty.  i happene...</td>\n",
              "      <td>5</td>\n",
              "      <td>1</td>\n",
              "      <td>4</td>\n",
              "      <td>General</td>\n",
              "      <td>Dresses</td>\n",
              "      <td>Dresses</td>\n",
              "    </tr>\n",
              "    <tr>\n",
              "      <th>2</th>\n",
              "      <td>1077</td>\n",
              "      <td>60</td>\n",
              "      <td>Some major design flaws</td>\n",
              "      <td>I had such high hopes for this dress and reall...</td>\n",
              "      <td>3</td>\n",
              "      <td>0</td>\n",
              "      <td>0</td>\n",
              "      <td>General</td>\n",
              "      <td>Dresses</td>\n",
              "      <td>Dresses</td>\n",
              "    </tr>\n",
              "    <tr>\n",
              "      <th>3</th>\n",
              "      <td>1049</td>\n",
              "      <td>50</td>\n",
              "      <td>My favorite buy!</td>\n",
              "      <td>I love, love, love this jumpsuit. it's fun, fl...</td>\n",
              "      <td>5</td>\n",
              "      <td>1</td>\n",
              "      <td>0</td>\n",
              "      <td>General Petite</td>\n",
              "      <td>Bottoms</td>\n",
              "      <td>Pants</td>\n",
              "    </tr>\n",
              "    <tr>\n",
              "      <th>4</th>\n",
              "      <td>847</td>\n",
              "      <td>47</td>\n",
              "      <td>Flattering shirt</td>\n",
              "      <td>This shirt is very flattering to all due to th...</td>\n",
              "      <td>5</td>\n",
              "      <td>1</td>\n",
              "      <td>6</td>\n",
              "      <td>General</td>\n",
              "      <td>Tops</td>\n",
              "      <td>Blouses</td>\n",
              "    </tr>\n",
              "  </tbody>\n",
              "</table>\n",
              "</div>"
            ],
            "text/plain": [
              "   Clothing ID  Age  ... Department Name Class Name\n",
              "0          767   33  ...        Intimate  Intimates\n",
              "1         1080   34  ...         Dresses    Dresses\n",
              "2         1077   60  ...         Dresses    Dresses\n",
              "3         1049   50  ...         Bottoms      Pants\n",
              "4          847   47  ...            Tops    Blouses\n",
              "\n",
              "[5 rows x 10 columns]"
            ]
          },
          "metadata": {},
          "execution_count": 774
        }
      ]
    },
    {
      "cell_type": "markdown",
      "metadata": {
        "id": "FSBfQABSfsNj"
      },
      "source": [
        "## Check dataset details"
      ]
    },
    {
      "cell_type": "code",
      "metadata": {
        "id": "3HNyWUzifx5G",
        "colab": {
          "base_uri": "https://localhost:8080/"
        },
        "outputId": "749b6cca-6ab4-4d1b-81f0-63f060cbaf92"
      },
      "source": [
        "df.shape"
      ],
      "execution_count": null,
      "outputs": [
        {
          "output_type": "execute_result",
          "data": {
            "text/plain": [
              "(23486, 10)"
            ]
          },
          "metadata": {},
          "execution_count": 775
        }
      ]
    },
    {
      "cell_type": "markdown",
      "metadata": {
        "id": "6C_Hi7SMg9ib"
      },
      "source": [
        "This dataset includes 23486 rows and 10 columns (features). \n",
        "\n",
        "Each row corresponds to a customer review, and includes the features:\n",
        "\n",
        "- __Clothing ID:__ Integer Categorical variable that refers to the specific piece being reviewed.\n",
        "- __Age:__ Positive Integer variable of the reviewers age.\n",
        "- __Title:__ String variable for the title of the review.\n",
        "- __Review Text:__ String variable for the review body.\n",
        "- __Rating:__ Positive Ordinal Integer variable for the product score granted by the customer from 1 Worst, to 5 Best.\n",
        "- __Recommended IND:__ Binary variable stating where the customer recommends the product where 1 is recommended, 0 is not recommended.\n",
        "- __Positive Feedback Count:__ Positive Integer documenting the number of other customers who found this review positive.\n",
        "- __Division Name:__ Categorical name of the product high level division.\n",
        "- __Department Name:__ Categorical name of the product department name.\n",
        "- __Class Name:__ Categorical name of the product class name."
      ]
    },
    {
      "cell_type": "code",
      "metadata": {
        "id": "QS1WypnyhlcA",
        "colab": {
          "base_uri": "https://localhost:8080/"
        },
        "outputId": "f7176b54-78d9-4462-c465-2897c4e8b42a"
      },
      "source": [
        "df.info()"
      ],
      "execution_count": null,
      "outputs": [
        {
          "output_type": "stream",
          "name": "stdout",
          "text": [
            "<class 'pandas.core.frame.DataFrame'>\n",
            "RangeIndex: 23486 entries, 0 to 23485\n",
            "Data columns (total 10 columns):\n",
            " #   Column                   Non-Null Count  Dtype \n",
            "---  ------                   --------------  ----- \n",
            " 0   Clothing ID              23486 non-null  int64 \n",
            " 1   Age                      23486 non-null  int64 \n",
            " 2   Title                    23486 non-null  object\n",
            " 3   Review Text              23486 non-null  object\n",
            " 4   Rating                   23486 non-null  int64 \n",
            " 5   Recommended IND          23486 non-null  int64 \n",
            " 6   Positive Feedback Count  23486 non-null  int64 \n",
            " 7   Division Name            23486 non-null  object\n",
            " 8   Department Name          23486 non-null  object\n",
            " 9   Class Name               23486 non-null  object\n",
            "dtypes: int64(5), object(5)\n",
            "memory usage: 1.8+ MB\n"
          ]
        }
      ]
    },
    {
      "cell_type": "markdown",
      "metadata": {
        "id": "aUVoe1AvcHBP"
      },
      "source": [
        "## Basic Data Processing__\n",
        "\n",
        "Combine review __Title__ and __Review Text__ into one text column called __Review__ which can be used later for NLP tasks."
      ]
    },
    {
      "cell_type": "code",
      "metadata": {
        "id": "OGRqq3M3haVO",
        "colab": {
          "base_uri": "https://localhost:8080/",
          "height": 310
        },
        "outputId": "25d5c286-c305-4ec1-c695-f1f8a5bcb809"
      },
      "source": [
        "# create column review\n",
        "df['Review'] = df[\"Title\"]+ df[\"Review Text\"]\n",
        "#df.info()\n",
        "# remove 'Title' and 'Review Text' Columns\n",
        "df = df.drop(columns=['Title', 'Review Text'])\n",
        "\n",
        "# view dataframe\n",
        "df.head()"
      ],
      "execution_count": null,
      "outputs": [
        {
          "output_type": "execute_result",
          "data": {
            "text/html": [
              "<div>\n",
              "<style scoped>\n",
              "    .dataframe tbody tr th:only-of-type {\n",
              "        vertical-align: middle;\n",
              "    }\n",
              "\n",
              "    .dataframe tbody tr th {\n",
              "        vertical-align: top;\n",
              "    }\n",
              "\n",
              "    .dataframe thead th {\n",
              "        text-align: right;\n",
              "    }\n",
              "</style>\n",
              "<table border=\"1\" class=\"dataframe\">\n",
              "  <thead>\n",
              "    <tr style=\"text-align: right;\">\n",
              "      <th></th>\n",
              "      <th>Clothing ID</th>\n",
              "      <th>Age</th>\n",
              "      <th>Rating</th>\n",
              "      <th>Recommended IND</th>\n",
              "      <th>Positive Feedback Count</th>\n",
              "      <th>Division Name</th>\n",
              "      <th>Department Name</th>\n",
              "      <th>Class Name</th>\n",
              "      <th>Review</th>\n",
              "    </tr>\n",
              "  </thead>\n",
              "  <tbody>\n",
              "    <tr>\n",
              "      <th>0</th>\n",
              "      <td>767</td>\n",
              "      <td>33</td>\n",
              "      <td>4</td>\n",
              "      <td>1</td>\n",
              "      <td>0</td>\n",
              "      <td>Initmates</td>\n",
              "      <td>Intimate</td>\n",
              "      <td>Intimates</td>\n",
              "      <td>Absolutely wonderful - silky and sexy and comf...</td>\n",
              "    </tr>\n",
              "    <tr>\n",
              "      <th>1</th>\n",
              "      <td>1080</td>\n",
              "      <td>34</td>\n",
              "      <td>5</td>\n",
              "      <td>1</td>\n",
              "      <td>4</td>\n",
              "      <td>General</td>\n",
              "      <td>Dresses</td>\n",
              "      <td>Dresses</td>\n",
              "      <td>Love this dress!  it's sooo pretty.  i happene...</td>\n",
              "    </tr>\n",
              "    <tr>\n",
              "      <th>2</th>\n",
              "      <td>1077</td>\n",
              "      <td>60</td>\n",
              "      <td>3</td>\n",
              "      <td>0</td>\n",
              "      <td>0</td>\n",
              "      <td>General</td>\n",
              "      <td>Dresses</td>\n",
              "      <td>Dresses</td>\n",
              "      <td>Some major design flawsI had such high hopes f...</td>\n",
              "    </tr>\n",
              "    <tr>\n",
              "      <th>3</th>\n",
              "      <td>1049</td>\n",
              "      <td>50</td>\n",
              "      <td>5</td>\n",
              "      <td>1</td>\n",
              "      <td>0</td>\n",
              "      <td>General Petite</td>\n",
              "      <td>Bottoms</td>\n",
              "      <td>Pants</td>\n",
              "      <td>My favorite buy!I love, love, love this jumpsu...</td>\n",
              "    </tr>\n",
              "    <tr>\n",
              "      <th>4</th>\n",
              "      <td>847</td>\n",
              "      <td>47</td>\n",
              "      <td>5</td>\n",
              "      <td>1</td>\n",
              "      <td>6</td>\n",
              "      <td>General</td>\n",
              "      <td>Tops</td>\n",
              "      <td>Blouses</td>\n",
              "      <td>Flattering shirtThis shirt is very flattering ...</td>\n",
              "    </tr>\n",
              "  </tbody>\n",
              "</table>\n",
              "</div>"
            ],
            "text/plain": [
              "   Clothing ID  ...                                             Review\n",
              "0          767  ...  Absolutely wonderful - silky and sexy and comf...\n",
              "1         1080  ...  Love this dress!  it's sooo pretty.  i happene...\n",
              "2         1077  ...  Some major design flawsI had such high hopes f...\n",
              "3         1049  ...  My favorite buy!I love, love, love this jumpsu...\n",
              "4          847  ...  Flattering shirtThis shirt is very flattering ...\n",
              "\n",
              "[5 rows x 9 columns]"
            ]
          },
          "metadata": {},
          "execution_count": 777
        }
      ]
    },
    {
      "cell_type": "markdown",
      "metadata": {
        "id": "KOhUKbmkhp2F"
      },
      "source": [
        "Check for are any blank reviews!"
      ]
    },
    {
      "cell_type": "code",
      "metadata": {
        "id": "1ovzmaGnhsqy",
        "colab": {
          "base_uri": "https://localhost:8080/"
        },
        "outputId": "30f6e1d2-7e26-484e-f79c-bb066be69d6f"
      },
      "source": [
        "sum(df['Review'] == '')"
      ],
      "execution_count": null,
      "outputs": [
        {
          "output_type": "execute_result",
          "data": {
            "text/plain": [
              "844"
            ]
          },
          "metadata": {},
          "execution_count": 778
        }
      ]
    },
    {
      "cell_type": "markdown",
      "metadata": {
        "id": "X8HoFYiohys8"
      },
      "source": [
        "Looks like we have 844 reviews with no text! We definitely need to remove them"
      ]
    },
    {
      "cell_type": "markdown",
      "metadata": {
        "id": "M-hvXsONcHBQ"
      },
      "source": [
        "## Remove all records with no review text__\n"
      ]
    },
    {
      "cell_type": "code",
      "metadata": {
        "id": "rGMGNqMFcHBR"
      },
      "source": [
        "df['Review'].replace('', np.nan, inplace=True)\n",
        "df.dropna(subset=['Review'], inplace=True)"
      ],
      "execution_count": null,
      "outputs": []
    },
    {
      "cell_type": "code",
      "metadata": {
        "id": "SPYWPQsKiDpd",
        "colab": {
          "base_uri": "https://localhost:8080/"
        },
        "outputId": "72eaafc2-858c-4e89-88f7-2f80eb48aa0f"
      },
      "source": [
        "df.info()"
      ],
      "execution_count": null,
      "outputs": [
        {
          "output_type": "stream",
          "name": "stdout",
          "text": [
            "<class 'pandas.core.frame.DataFrame'>\n",
            "Int64Index: 22642 entries, 0 to 23485\n",
            "Data columns (total 9 columns):\n",
            " #   Column                   Non-Null Count  Dtype \n",
            "---  ------                   --------------  ----- \n",
            " 0   Clothing ID              22642 non-null  int64 \n",
            " 1   Age                      22642 non-null  int64 \n",
            " 2   Rating                   22642 non-null  int64 \n",
            " 3   Recommended IND          22642 non-null  int64 \n",
            " 4   Positive Feedback Count  22642 non-null  int64 \n",
            " 5   Division Name            22642 non-null  object\n",
            " 6   Department Name          22642 non-null  object\n",
            " 7   Class Name               22642 non-null  object\n",
            " 8   Review                   22642 non-null  object\n",
            "dtypes: int64(5), object(4)\n",
            "memory usage: 1.7+ MB\n"
          ]
        }
      ]
    },
    {
      "cell_type": "markdown",
      "metadata": {
        "id": "hA9FNpN6i1lN"
      },
      "source": [
        "### Rename the Recommended IND column\n"
      ]
    },
    {
      "cell_type": "code",
      "metadata": {
        "id": "FRstkw--i7zX",
        "colab": {
          "base_uri": "https://localhost:8080/",
          "height": 213
        },
        "outputId": "5a254fdc-98d9-42e4-bbf8-3f59f986cc3c"
      },
      "source": [
        "df = df.rename(columns={'Recommended IND':'Recommended'})\n",
        "df.head(3)"
      ],
      "execution_count": null,
      "outputs": [
        {
          "output_type": "execute_result",
          "data": {
            "text/html": [
              "<div>\n",
              "<style scoped>\n",
              "    .dataframe tbody tr th:only-of-type {\n",
              "        vertical-align: middle;\n",
              "    }\n",
              "\n",
              "    .dataframe tbody tr th {\n",
              "        vertical-align: top;\n",
              "    }\n",
              "\n",
              "    .dataframe thead th {\n",
              "        text-align: right;\n",
              "    }\n",
              "</style>\n",
              "<table border=\"1\" class=\"dataframe\">\n",
              "  <thead>\n",
              "    <tr style=\"text-align: right;\">\n",
              "      <th></th>\n",
              "      <th>Clothing ID</th>\n",
              "      <th>Age</th>\n",
              "      <th>Rating</th>\n",
              "      <th>Recommended</th>\n",
              "      <th>Positive Feedback Count</th>\n",
              "      <th>Division Name</th>\n",
              "      <th>Department Name</th>\n",
              "      <th>Class Name</th>\n",
              "      <th>Review</th>\n",
              "    </tr>\n",
              "  </thead>\n",
              "  <tbody>\n",
              "    <tr>\n",
              "      <th>0</th>\n",
              "      <td>767</td>\n",
              "      <td>33</td>\n",
              "      <td>4</td>\n",
              "      <td>1</td>\n",
              "      <td>0</td>\n",
              "      <td>Initmates</td>\n",
              "      <td>Intimate</td>\n",
              "      <td>Intimates</td>\n",
              "      <td>Absolutely wonderful - silky and sexy and comf...</td>\n",
              "    </tr>\n",
              "    <tr>\n",
              "      <th>1</th>\n",
              "      <td>1080</td>\n",
              "      <td>34</td>\n",
              "      <td>5</td>\n",
              "      <td>1</td>\n",
              "      <td>4</td>\n",
              "      <td>General</td>\n",
              "      <td>Dresses</td>\n",
              "      <td>Dresses</td>\n",
              "      <td>Love this dress!  it's sooo pretty.  i happene...</td>\n",
              "    </tr>\n",
              "    <tr>\n",
              "      <th>2</th>\n",
              "      <td>1077</td>\n",
              "      <td>60</td>\n",
              "      <td>3</td>\n",
              "      <td>0</td>\n",
              "      <td>0</td>\n",
              "      <td>General</td>\n",
              "      <td>Dresses</td>\n",
              "      <td>Dresses</td>\n",
              "      <td>Some major design flawsI had such high hopes f...</td>\n",
              "    </tr>\n",
              "  </tbody>\n",
              "</table>\n",
              "</div>"
            ],
            "text/plain": [
              "   Clothing ID  ...                                             Review\n",
              "0          767  ...  Absolutely wonderful - silky and sexy and comf...\n",
              "1         1080  ...  Love this dress!  it's sooo pretty.  i happene...\n",
              "2         1077  ...  Some major design flawsI had such high hopes f...\n",
              "\n",
              "[3 rows x 9 columns]"
            ]
          },
          "metadata": {},
          "execution_count": 781
        }
      ]
    },
    {
      "cell_type": "markdown",
      "metadata": {
        "id": "wT3NU4Z6iUyO"
      },
      "source": [
        "# ___Phase 2: Exploratory Data Analysis___\n",
        "\n"
      ]
    },
    {
      "cell_type": "markdown",
      "metadata": {
        "id": "iHB9nZLfilm8"
      },
      "source": [
        "## Viewing distribution of recommended products\n",
        "\n",
        "The number of products recommended and not recommended by customers"
      ]
    },
    {
      "cell_type": "code",
      "metadata": {
        "id": "gIvgDWf-ikuq"
      },
      "source": [
        "import seaborn as sns\n",
        "import matplotlib.pyplot as plt\n",
        "sns.set_style('whitegrid')"
      ],
      "execution_count": null,
      "outputs": []
    },
    {
      "cell_type": "code",
      "metadata": {
        "id": "G_U4DtGPiuNu",
        "colab": {
          "base_uri": "https://localhost:8080/",
          "height": 388
        },
        "outputId": "84ee2922-b720-48bd-bcbe-3826eba02cb7"
      },
      "source": [
        "plt.figure(figsize=(10, 6))\n",
        "sns.countplot(x='Recommended', data=df, color='navy');"
      ],
      "execution_count": null,
      "outputs": [
        {
          "output_type": "display_data",
          "data": {
            "image/png": "[encoded data removed]",
            "text/plain": [
              "<Figure size 720x432 with 1 Axes>"
            ]
          },
          "metadata": {}
        }
      ]
    },
    {
      "cell_type": "markdown",
      "metadata": {
        "id": "E6P7pbU6kzYA"
      },
      "source": [
        "## The distribution of reviews based on ratings__\n"
      ]
    },
    {
      "cell_type": "code",
      "metadata": {
        "id": "YkEH4ID6k3U5",
        "colab": {
          "base_uri": "https://localhost:8080/",
          "height": 388
        },
        "outputId": "f413e5d4-b971-451b-910c-8c087be5dab1"
      },
      "source": [
        "plt.figure(figsize=(10, 6))\n",
        "sns.countplot(x='Rating', data=df, color='green');"
      ],
      "execution_count": null,
      "outputs": [
        {
          "output_type": "display_data",
          "data": {
            "image/png": "[encoded data removed]",
            "text/plain": [
              "<Figure size 720x432 with 1 Axes>"
            ]
          },
          "metadata": {}
        }
      ]
    },
    {
      "cell_type": "markdown",
      "metadata": {
        "id": "DJ94eY5_loBY"
      },
      "source": [
        "## Let's visualize Ratings vs. Recommendations"
      ]
    },
    {
      "cell_type": "code",
      "metadata": {
        "id": "Nh1xQ5vIk9VL",
        "colab": {
          "base_uri": "https://localhost:8080/",
          "height": 388
        },
        "outputId": "16749380-d3b2-4b69-9bb5-a4b455aa8087"
      },
      "source": [
        "plt.figure(figsize=(10, 6))\n",
        "sns.countplot(x='Rating', hue='Recommended', data=df);"
      ],
      "execution_count": null,
      "outputs": [
        {
          "output_type": "display_data",
          "data": {
            "image/png": "[encoded data removed]",
            "text/plain": [
              "<Figure size 720x432 with 1 Axes>"
            ]
          },
          "metadata": {}
        }
      ]
    },
    {
      "cell_type": "markdown",
      "metadata": {
        "id": "aWvqQPFllslQ"
      },
      "source": [
        "This makes it clear that low ratings (1-2) lead to customers not recommending products and high ratings (4-5) lead to customers recommending products.\n",
        "\n",
        "This is a data\\target leakage where we want to predict a variable (Recommended) using other features, however there are features like 'Rating' which indirectly relate very strongly to 'Recommendation'. \n",
        "\n",
        "Hence to build an unbiased predictive model in future modules, it is recommended to drop this column."
      ]
    },
    {
      "cell_type": "markdown",
      "metadata": {
        "id": "7_NBvyDYmGeq"
      },
      "source": [
        "## Drop the Rating column__\n",
        "\n"
      ]
    },
    {
      "cell_type": "code",
      "metadata": {
        "id": "PTSA_-OrmJR6",
        "colab": {
          "base_uri": "https://localhost:8080/",
          "height": 262
        },
        "outputId": "c6111c89-a377-4ed5-be53-b1ce357315a0"
      },
      "source": [
        "df = df.drop(columns='Rating')\n",
        "df.head(4)"
      ],
      "execution_count": null,
      "outputs": [
        {
          "output_type": "execute_result",
          "data": {
            "text/html": [
              "<div>\n",
              "<style scoped>\n",
              "    .dataframe tbody tr th:only-of-type {\n",
              "        vertical-align: middle;\n",
              "    }\n",
              "\n",
              "    .dataframe tbody tr th {\n",
              "        vertical-align: top;\n",
              "    }\n",
              "\n",
              "    .dataframe thead th {\n",
              "        text-align: right;\n",
              "    }\n",
              "</style>\n",
              "<table border=\"1\" class=\"dataframe\">\n",
              "  <thead>\n",
              "    <tr style=\"text-align: right;\">\n",
              "      <th></th>\n",
              "      <th>Clothing ID</th>\n",
              "      <th>Age</th>\n",
              "      <th>Recommended</th>\n",
              "      <th>Positive Feedback Count</th>\n",
              "      <th>Division Name</th>\n",
              "      <th>Department Name</th>\n",
              "      <th>Class Name</th>\n",
              "      <th>Review</th>\n",
              "    </tr>\n",
              "  </thead>\n",
              "  <tbody>\n",
              "    <tr>\n",
              "      <th>0</th>\n",
              "      <td>767</td>\n",
              "      <td>33</td>\n",
              "      <td>1</td>\n",
              "      <td>0</td>\n",
              "      <td>Initmates</td>\n",
              "      <td>Intimate</td>\n",
              "      <td>Intimates</td>\n",
              "      <td>Absolutely wonderful - silky and sexy and comf...</td>\n",
              "    </tr>\n",
              "    <tr>\n",
              "      <th>1</th>\n",
              "      <td>1080</td>\n",
              "      <td>34</td>\n",
              "      <td>1</td>\n",
              "      <td>4</td>\n",
              "      <td>General</td>\n",
              "      <td>Dresses</td>\n",
              "      <td>Dresses</td>\n",
              "      <td>Love this dress!  it's sooo pretty.  i happene...</td>\n",
              "    </tr>\n",
              "    <tr>\n",
              "      <th>2</th>\n",
              "      <td>1077</td>\n",
              "      <td>60</td>\n",
              "      <td>0</td>\n",
              "      <td>0</td>\n",
              "      <td>General</td>\n",
              "      <td>Dresses</td>\n",
              "      <td>Dresses</td>\n",
              "      <td>Some major design flawsI had such high hopes f...</td>\n",
              "    </tr>\n",
              "    <tr>\n",
              "      <th>3</th>\n",
              "      <td>1049</td>\n",
              "      <td>50</td>\n",
              "      <td>1</td>\n",
              "      <td>0</td>\n",
              "      <td>General Petite</td>\n",
              "      <td>Bottoms</td>\n",
              "      <td>Pants</td>\n",
              "      <td>My favorite buy!I love, love, love this jumpsu...</td>\n",
              "    </tr>\n",
              "  </tbody>\n",
              "</table>\n",
              "</div>"
            ],
            "text/plain": [
              "   Clothing ID  ...                                             Review\n",
              "0          767  ...  Absolutely wonderful - silky and sexy and comf...\n",
              "1         1080  ...  Love this dress!  it's sooo pretty.  i happene...\n",
              "2         1077  ...  Some major design flawsI had such high hopes f...\n",
              "3         1049  ...  My favorite buy!I love, love, love this jumpsu...\n",
              "\n",
              "[4 rows x 8 columns]"
            ]
          },
          "metadata": {},
          "execution_count": 786
        }
      ]
    },
    {
      "cell_type": "markdown",
      "metadata": {
        "id": "Zu0FPGrjkcns"
      },
      "source": [
        "## View the distribution of reviews based on product Class Name\n"
      ]
    },
    {
      "cell_type": "code",
      "metadata": {
        "id": "F0bTukh3kllS",
        "colab": {
          "base_uri": "https://localhost:8080/",
          "height": 388
        },
        "outputId": "443ce315-b6b9-4f81-ae67-5a79724ba08a"
      },
      "source": [
        "plt.figure(figsize=(10, 6))\n",
        "sns.countplot(y='Class Name', data=df, color='navy');"
      ],
      "execution_count": null,
      "outputs": [
        {
          "output_type": "display_data",
          "data": {
            "image/png": "[encoded data removed]",
            "text/plain": [
              "<Figure size 720x432 with 1 Axes>"
            ]
          },
          "metadata": {}
        }
      ]
    },
    {
      "cell_type": "markdown",
      "metadata": {
        "id": "EN_51voPm3EC"
      },
      "source": [
        "## Show the distribution of reviews based on Department Name__\n"
      ]
    },
    {
      "cell_type": "code",
      "metadata": {
        "id": "0FVVkt4xivmf",
        "colab": {
          "base_uri": "https://localhost:8080/",
          "height": 388
        },
        "outputId": "13969382-97a9-4e33-ffe9-fe539c1d4d4f"
      },
      "source": [
        "plt.figure(figsize=(10, 6))\n",
        "sns.countplot(y='Department Name', data=df, color='orange');"
      ],
      "execution_count": null,
      "outputs": [
        {
          "output_type": "display_data",
          "data": {
            "image/png": "[encoded data removed]",
            "text/plain": [
              "<Figure size 720x432 with 1 Axes>"
            ]
          },
          "metadata": {}
        }
      ]
    },
    {
      "cell_type": "markdown",
      "metadata": {
        "id": "9i6qErJCoL2O"
      },
      "source": [
        "## Viewing distributions of Age and Positive Feedback on Reviews"
      ]
    },
    {
      "cell_type": "code",
      "metadata": {
        "id": "SwqU_e5Ykprm",
        "colab": {
          "base_uri": "https://localhost:8080/",
          "height": 388
        },
        "outputId": "bb18f720-9b55-41d4-9494-20aa9528bfe8"
      },
      "source": [
        "plt.figure(figsize=(10, 6))\n",
        "sns.histplot(x='Age', bins=10, data=df);"
      ],
      "execution_count": null,
      "outputs": [
        {
          "output_type": "display_data",
          "data": {
            "image/png": "[encoded data removed]",
            "text/plain": [
              "<Figure size 720x432 with 1 Axes>"
            ]
          },
          "metadata": {}
        }
      ]
    },
    {
      "cell_type": "code",
      "metadata": {
        "id": "PR_iIfjKnDMb",
        "colab": {
          "base_uri": "https://localhost:8080/",
          "height": 388
        },
        "outputId": "1732587e-85c3-4365-e16f-2469d9420544"
      },
      "source": [
        "plt.figure(figsize=(10, 6))\n",
        "sns.histplot(x='Positive Feedback Count', bins=50, data=df);"
      ],
      "execution_count": null,
      "outputs": [
        {
          "output_type": "display_data",
          "data": {
            "image/png": "[encoded data removed]",
            "text/plain": [
              "<Figure size 720x432 with 1 Axes>"
            ]
          },
          "metadata": {}
        }
      ]
    },
    {
      "cell_type": "markdown",
      "metadata": {
        "id": "5EUNzYOUo3cp"
      },
      "source": [
        "## Viewing top 10 product IDs reviewed by customers"
      ]
    },
    {
      "cell_type": "code",
      "metadata": {
        "id": "7DjUhBW2n55w",
        "colab": {
          "base_uri": "https://localhost:8080/",
          "height": 388
        },
        "outputId": "0deeb61b-baad-44b5-86be-9175606aeda3"
      },
      "source": [
        "plt.figure(figsize=(10, 6))\n",
        "sns.countplot(y='Clothing ID', data=df, color='navy', \n",
        "              order=df['Clothing ID'].value_counts().iloc[:10].index);"
      ],
      "execution_count": null,
      "outputs": [
        {
          "output_type": "display_data",
          "data": {
            "image/png": "[encoded data removed]",
            "text/plain": [
              "<Figure size 720x432 with 1 Axes>"
            ]
          },
          "metadata": {}
        }
      ]
    },
    {
      "cell_type": "markdown",
      "metadata": {
        "id": "sY1ltstuo9MM"
      },
      "source": [
        "## Show number of customers who recommended or didn't recommend the top 10 most reviewed products__\n"
      ]
    },
    {
      "cell_type": "code",
      "metadata": {
        "id": "b91S3zJsoe1n",
        "colab": {
          "base_uri": "https://localhost:8080/",
          "height": 388
        },
        "outputId": "036a5660-ebde-4abc-ff02-b9af66f659e2"
      },
      "source": [
        "plt.figure(figsize=(10, 6))\n",
        "sns.countplot(y='Clothing ID', data=df, hue='Recommended', \n",
        "              order=df['Clothing ID'].value_counts().iloc[:10].index);"
      ],
      "execution_count": null,
      "outputs": [
        {
          "output_type": "display_data",
          "data": {
            "image/png": "[encoded data removed]",
            "text/plain": [
              "<Figure size 720x432 with 1 Axes>"
            ]
          },
          "metadata": {}
        }
      ]
    },
    {
      "cell_type": "markdown",
      "metadata": {
        "id": "Xx0vwZEupdBz"
      },
      "source": [
        "## How long are the customer reviews (review lengths)__\n",
        "\n"
      ]
    },
    {
      "cell_type": "code",
      "metadata": {
        "id": "x4LOLgG7pqqo",
        "colab": {
          "base_uri": "https://localhost:8080/",
          "height": 389
        },
        "outputId": "e9f8a517-cff0-48ce-e3ed-f58804a55970"
      },
      "source": [
        "df['Review_length'] = df['Review'].str.len()\n",
        "#df.head()\n",
        "#print(Review_length)\n",
        "plt.figure(figsize=(10, 6))\n",
        "sns.histplot(x='Review_length', bins=50, data=df);"
      ],
      "execution_count": null,
      "outputs": [
        {
          "output_type": "display_data",
          "data": {
            "image/png": "[encoded data removed]",
            "text/plain": [
              "<Figure size 720x432 with 1 Axes>"
            ]
          },
          "metadata": {}
        }
      ]
    },
    {
      "cell_type": "code",
      "metadata": {
        "colab": {
          "base_uri": "https://localhost:8080/",
          "height": 262
        },
        "id": "Be6a2V9ImuaU",
        "outputId": "554a2a27-9688-4230-c2d8-58b905fdd2d9"
      },
      "source": [
        "# code to remove the Review length column\n",
        "df = df.drop(columns='Review_length')\n",
        "df.head(4)\n"
      ],
      "execution_count": null,
      "outputs": [
        {
          "output_type": "execute_result",
          "data": {
            "text/html": [
              "<div>\n",
              "<style scoped>\n",
              "    .dataframe tbody tr th:only-of-type {\n",
              "        vertical-align: middle;\n",
              "    }\n",
              "\n",
              "    .dataframe tbody tr th {\n",
              "        vertical-align: top;\n",
              "    }\n",
              "\n",
              "    .dataframe thead th {\n",
              "        text-align: right;\n",
              "    }\n",
              "</style>\n",
              "<table border=\"1\" class=\"dataframe\">\n",
              "  <thead>\n",
              "    <tr style=\"text-align: right;\">\n",
              "      <th></th>\n",
              "      <th>Clothing ID</th>\n",
              "      <th>Age</th>\n",
              "      <th>Recommended</th>\n",
              "      <th>Positive Feedback Count</th>\n",
              "      <th>Division Name</th>\n",
              "      <th>Department Name</th>\n",
              "      <th>Class Name</th>\n",
              "      <th>Review</th>\n",
              "    </tr>\n",
              "  </thead>\n",
              "  <tbody>\n",
              "    <tr>\n",
              "      <th>0</th>\n",
              "      <td>767</td>\n",
              "      <td>33</td>\n",
              "      <td>1</td>\n",
              "      <td>0</td>\n",
              "      <td>Initmates</td>\n",
              "      <td>Intimate</td>\n",
              "      <td>Intimates</td>\n",
              "      <td>Absolutely wonderful - silky and sexy and comf...</td>\n",
              "    </tr>\n",
              "    <tr>\n",
              "      <th>1</th>\n",
              "      <td>1080</td>\n",
              "      <td>34</td>\n",
              "      <td>1</td>\n",
              "      <td>4</td>\n",
              "      <td>General</td>\n",
              "      <td>Dresses</td>\n",
              "      <td>Dresses</td>\n",
              "      <td>Love this dress!  it's sooo pretty.  i happene...</td>\n",
              "    </tr>\n",
              "    <tr>\n",
              "      <th>2</th>\n",
              "      <td>1077</td>\n",
              "      <td>60</td>\n",
              "      <td>0</td>\n",
              "      <td>0</td>\n",
              "      <td>General</td>\n",
              "      <td>Dresses</td>\n",
              "      <td>Dresses</td>\n",
              "      <td>Some major design flawsI had such high hopes f...</td>\n",
              "    </tr>\n",
              "    <tr>\n",
              "      <th>3</th>\n",
              "      <td>1049</td>\n",
              "      <td>50</td>\n",
              "      <td>1</td>\n",
              "      <td>0</td>\n",
              "      <td>General Petite</td>\n",
              "      <td>Bottoms</td>\n",
              "      <td>Pants</td>\n",
              "      <td>My favorite buy!I love, love, love this jumpsu...</td>\n",
              "    </tr>\n",
              "  </tbody>\n",
              "</table>\n",
              "</div>"
            ],
            "text/plain": [
              "   Clothing ID  ...                                             Review\n",
              "0          767  ...  Absolutely wonderful - silky and sexy and comf...\n",
              "1         1080  ...  Love this dress!  it's sooo pretty.  i happene...\n",
              "2         1077  ...  Some major design flawsI had such high hopes f...\n",
              "3         1049  ...  My favorite buy!I love, love, love this jumpsu...\n",
              "\n",
              "[4 rows x 8 columns]"
            ]
          },
          "metadata": {},
          "execution_count": 794
        }
      ]
    },
    {
      "cell_type": "markdown",
      "metadata": {
        "id": "xZiWQ0vMp3eA"
      },
      "source": [
        "## How many words per review (word counts per review)__\n",
        "\n"
      ]
    },
    {
      "cell_type": "code",
      "metadata": {
        "id": "H8zsprwfqa0k",
        "colab": {
          "base_uri": "https://localhost:8080/",
          "height": 696
        },
        "outputId": "7833f3cf-307a-4054-d2d7-23cd2dbe1122"
      },
      "source": [
        "import nltk\n",
        "nltk.download('stopwords')\n",
        "from nltk.tokenize import RegexpTokenizer\n",
        "from nltk.stem import WordNetLemmatizer,PorterStemmer\n",
        "import re\n",
        "import string\n",
        "lemmatizer = WordNetLemmatizer()\n",
        "stemmer = PorterStemmer() \n",
        "from string import punctuation\n",
        "\n",
        "\n",
        "def preprocess_text(text):\n",
        "    text = text.lower()  # Lowercase text\n",
        "    text = re.sub(f\"[{re.escape(punctuation)}]\", \"\", text)  # Remove punctuation\n",
        "    text = re.sub(r\"https?://\\S+\", \"\", text) # remove url\n",
        "    text = re.sub(r\"\\b[0-9]+\\b\\s*\", \"\", text) # remove numbers\n",
        "    tokens = text.split()# Remove extra spaces, tabs, and new lines\n",
        "    clean_text = \",\".join(tokens)\n",
        "    return clean_text\n",
        "\n",
        "df['Review_Words']=df[\"Review\"].map(preprocess_text)\n",
        "feature_col = 'Review_Words'\n",
        "df['Review_Words_Counts'] = df[feature_col].apply(lambda x: len(x.split(',')))\n",
        "df.head()    "
      ],
      "execution_count": null,
      "outputs": [
        {
          "output_type": "stream",
          "name": "stdout",
          "text": [
            "[nltk_data] Downloading package stopwords to /root/nltk_data...\n",
            "[nltk_data]   Package stopwords is already up-to-date!\n"
          ]
        },
        {
          "output_type": "execute_result",
          "data": {
            "text/html": [
              "<div>\n",
              "<style scoped>\n",
              "    .dataframe tbody tr th:only-of-type {\n",
              "        vertical-align: middle;\n",
              "    }\n",
              "\n",
              "    .dataframe tbody tr th {\n",
              "        vertical-align: top;\n",
              "    }\n",
              "\n",
              "    .dataframe thead th {\n",
              "        text-align: right;\n",
              "    }\n",
              "</style>\n",
              "<table border=\"1\" class=\"dataframe\">\n",
              "  <thead>\n",
              "    <tr style=\"text-align: right;\">\n",
              "      <th></th>\n",
              "      <th>Clothing ID</th>\n",
              "      <th>Age</th>\n",
              "      <th>Recommended</th>\n",
              "      <th>Positive Feedback Count</th>\n",
              "      <th>Division Name</th>\n",
              "      <th>Department Name</th>\n",
              "      <th>Class Name</th>\n",
              "      <th>Review</th>\n",
              "      <th>Review_Words</th>\n",
              "      <th>Review_Words_Counts</th>\n",
              "    </tr>\n",
              "  </thead>\n",
              "  <tbody>\n",
              "    <tr>\n",
              "      <th>0</th>\n",
              "      <td>767</td>\n",
              "      <td>33</td>\n",
              "      <td>1</td>\n",
              "      <td>0</td>\n",
              "      <td>Initmates</td>\n",
              "      <td>Intimate</td>\n",
              "      <td>Intimates</td>\n",
              "      <td>Absolutely wonderful - silky and sexy and comf...</td>\n",
              "      <td>absolutely,wonderful,silky,and,sexy,and,comfor...</td>\n",
              "      <td>7</td>\n",
              "    </tr>\n",
              "    <tr>\n",
              "      <th>1</th>\n",
              "      <td>1080</td>\n",
              "      <td>34</td>\n",
              "      <td>1</td>\n",
              "      <td>4</td>\n",
              "      <td>General</td>\n",
              "      <td>Dresses</td>\n",
              "      <td>Dresses</td>\n",
              "      <td>Love this dress!  it's sooo pretty.  i happene...</td>\n",
              "      <td>love,this,dress,its,sooo,pretty,i,happened,to,...</td>\n",
              "      <td>61</td>\n",
              "    </tr>\n",
              "    <tr>\n",
              "      <th>2</th>\n",
              "      <td>1077</td>\n",
              "      <td>60</td>\n",
              "      <td>0</td>\n",
              "      <td>0</td>\n",
              "      <td>General</td>\n",
              "      <td>Dresses</td>\n",
              "      <td>Dresses</td>\n",
              "      <td>Some major design flawsI had such high hopes f...</td>\n",
              "      <td>some,major,design,flawsi,had,such,high,hopes,f...</td>\n",
              "      <td>100</td>\n",
              "    </tr>\n",
              "    <tr>\n",
              "      <th>3</th>\n",
              "      <td>1049</td>\n",
              "      <td>50</td>\n",
              "      <td>1</td>\n",
              "      <td>0</td>\n",
              "      <td>General Petite</td>\n",
              "      <td>Bottoms</td>\n",
              "      <td>Pants</td>\n",
              "      <td>My favorite buy!I love, love, love this jumpsu...</td>\n",
              "      <td>my,favorite,buyi,love,love,love,this,jumpsuit,...</td>\n",
              "      <td>24</td>\n",
              "    </tr>\n",
              "    <tr>\n",
              "      <th>4</th>\n",
              "      <td>847</td>\n",
              "      <td>47</td>\n",
              "      <td>1</td>\n",
              "      <td>6</td>\n",
              "      <td>General</td>\n",
              "      <td>Tops</td>\n",
              "      <td>Blouses</td>\n",
              "      <td>Flattering shirtThis shirt is very flattering ...</td>\n",
              "      <td>flattering,shirtthis,shirt,is,very,flattering,...</td>\n",
              "      <td>37</td>\n",
              "    </tr>\n",
              "  </tbody>\n",
              "</table>\n",
              "</div>"
            ],
            "text/plain": [
              "   Clothing ID  ...  Review_Words_Counts\n",
              "0          767  ...                    7\n",
              "1         1080  ...                   61\n",
              "2         1077  ...                  100\n",
              "3         1049  ...                   24\n",
              "4          847  ...                   37\n",
              "\n",
              "[5 rows x 10 columns]"
            ]
          },
          "metadata": {},
          "execution_count": 795
        }
      ]
    },
    {
      "cell_type": "code",
      "metadata": {
        "colab": {
          "base_uri": "https://localhost:8080/",
          "height": 389
        },
        "id": "REuGm5bonotM",
        "outputId": "9b5e4b11-7df3-4599-b145-516cfb9cb4ff"
      },
      "source": [
        "plt.figure(figsize=(10, 6))\n",
        "sns.histplot(x='Review_Words_Counts', bins=50, data=df);"
      ],
      "execution_count": null,
      "outputs": [
        {
          "output_type": "display_data",
          "data": {
            "image/png": "[encoded data removed]",
            "text/plain": [
              "<Figure size 720x432 with 1 Axes>"
            ]
          },
          "metadata": {}
        }
      ]
    },
    {
      "cell_type": "markdown",
      "metadata": {
        "id": "BWTL6xU9qtwk"
      },
      "source": [
        "# ___Phase 3: Feature Engineering and Modeling___\n",
        "\n",
        "Aim:\n",
        "\n",
        "- Use structured features along with non-vectorized features to build classsifiers\n",
        "- Use vectorization methods like BOW and build classifiers\n",
        "- Combine vectorized and structured features and build classifiers\n",
        "- Try out different classifiers and check their performance"
      ]
    },
    {
      "cell_type": "markdown",
      "metadata": {
        "id": "INqK1lDq-woa"
      },
      "source": [
        "## View the dataset"
      ]
    },
    {
      "cell_type": "code",
      "metadata": {
        "id": "qY1vKwhZ-ymA",
        "colab": {
          "base_uri": "https://localhost:8080/",
          "height": 660
        },
        "outputId": "7c264b22-06ac-4ef9-cc0b-b2e8dddbb884"
      },
      "source": [
        "df.head()"
      ],
      "execution_count": null,
      "outputs": [
        {
          "output_type": "execute_result",
          "data": {
            "text/html": [
              "<div>\n",
              "<style scoped>\n",
              "    .dataframe tbody tr th:only-of-type {\n",
              "        vertical-align: middle;\n",
              "    }\n",
              "\n",
              "    .dataframe tbody tr th {\n",
              "        vertical-align: top;\n",
              "    }\n",
              "\n",
              "    .dataframe thead th {\n",
              "        text-align: right;\n",
              "    }\n",
              "</style>\n",
              "<table border=\"1\" class=\"dataframe\">\n",
              "  <thead>\n",
              "    <tr style=\"text-align: right;\">\n",
              "      <th></th>\n",
              "      <th>Clothing ID</th>\n",
              "      <th>Age</th>\n",
              "      <th>Recommended</th>\n",
              "      <th>Positive Feedback Count</th>\n",
              "      <th>Division Name</th>\n",
              "      <th>Department Name</th>\n",
              "      <th>Class Name</th>\n",
              "      <th>Review</th>\n",
              "      <th>Review_Words</th>\n",
              "      <th>Review_Words_Counts</th>\n",
              "    </tr>\n",
              "  </thead>\n",
              "  <tbody>\n",
              "    <tr>\n",
              "      <th>0</th>\n",
              "      <td>767</td>\n",
              "      <td>33</td>\n",
              "      <td>1</td>\n",
              "      <td>0</td>\n",
              "      <td>Initmates</td>\n",
              "      <td>Intimate</td>\n",
              "      <td>Intimates</td>\n",
              "      <td>Absolutely wonderful - silky and sexy and comf...</td>\n",
              "      <td>absolutely,wonderful,silky,and,sexy,and,comfor...</td>\n",
              "      <td>7</td>\n",
              "    </tr>\n",
              "    <tr>\n",
              "      <th>1</th>\n",
              "      <td>1080</td>\n",
              "      <td>34</td>\n",
              "      <td>1</td>\n",
              "      <td>4</td>\n",
              "      <td>General</td>\n",
              "      <td>Dresses</td>\n",
              "      <td>Dresses</td>\n",
              "      <td>Love this dress!  it's sooo pretty.  i happene...</td>\n",
              "      <td>love,this,dress,its,sooo,pretty,i,happened,to,...</td>\n",
              "      <td>61</td>\n",
              "    </tr>\n",
              "    <tr>\n",
              "      <th>2</th>\n",
              "      <td>1077</td>\n",
              "      <td>60</td>\n",
              "      <td>0</td>\n",
              "      <td>0</td>\n",
              "      <td>General</td>\n",
              "      <td>Dresses</td>\n",
              "      <td>Dresses</td>\n",
              "      <td>Some major design flawsI had such high hopes f...</td>\n",
              "      <td>some,major,design,flawsi,had,such,high,hopes,f...</td>\n",
              "      <td>100</td>\n",
              "    </tr>\n",
              "    <tr>\n",
              "      <th>3</th>\n",
              "      <td>1049</td>\n",
              "      <td>50</td>\n",
              "      <td>1</td>\n",
              "      <td>0</td>\n",
              "      <td>General Petite</td>\n",
              "      <td>Bottoms</td>\n",
              "      <td>Pants</td>\n",
              "      <td>My favorite buy!I love, love, love this jumpsu...</td>\n",
              "      <td>my,favorite,buyi,love,love,love,this,jumpsuit,...</td>\n",
              "      <td>24</td>\n",
              "    </tr>\n",
              "    <tr>\n",
              "      <th>4</th>\n",
              "      <td>847</td>\n",
              "      <td>47</td>\n",
              "      <td>1</td>\n",
              "      <td>6</td>\n",
              "      <td>General</td>\n",
              "      <td>Tops</td>\n",
              "      <td>Blouses</td>\n",
              "      <td>Flattering shirtThis shirt is very flattering ...</td>\n",
              "      <td>flattering,shirtthis,shirt,is,very,flattering,...</td>\n",
              "      <td>37</td>\n",
              "    </tr>\n",
              "  </tbody>\n",
              "</table>\n",
              "</div>"
            ],
            "text/plain": [
              "   Clothing ID  ...  Review_Words_Counts\n",
              "0          767  ...                    7\n",
              "1         1080  ...                   61\n",
              "2         1077  ...                  100\n",
              "3         1049  ...                   24\n",
              "4          847  ...                   37\n",
              "\n",
              "[5 rows x 10 columns]"
            ]
          },
          "metadata": {},
          "execution_count": 797
        }
      ]
    },
    {
      "cell_type": "markdown",
      "metadata": {
        "id": "sUaBIEHq-7bB"
      },
      "source": [
        "## Subset out unnecessary features"
      ]
    },
    {
      "cell_type": "code",
      "metadata": {
        "id": "VWEigJuS_AGQ",
        "colab": {
          "base_uri": "https://localhost:8080/",
          "height": 206
        },
        "outputId": "be61ef02-b6ab-4907-f522-748fb4aa2b5f"
      },
      "source": [
        "df = df[['Review', 'Age', 'Positive Feedback Count', 'Recommended']]\n",
        "df.head()"
      ],
      "execution_count": null,
      "outputs": [
        {
          "output_type": "execute_result",
          "data": {
            "text/html": [
              "<div>\n",
              "<style scoped>\n",
              "    .dataframe tbody tr th:only-of-type {\n",
              "        vertical-align: middle;\n",
              "    }\n",
              "\n",
              "    .dataframe tbody tr th {\n",
              "        vertical-align: top;\n",
              "    }\n",
              "\n",
              "    .dataframe thead th {\n",
              "        text-align: right;\n",
              "    }\n",
              "</style>\n",
              "<table border=\"1\" class=\"dataframe\">\n",
              "  <thead>\n",
              "    <tr style=\"text-align: right;\">\n",
              "      <th></th>\n",
              "      <th>Review</th>\n",
              "      <th>Age</th>\n",
              "      <th>Positive Feedback Count</th>\n",
              "      <th>Recommended</th>\n",
              "    </tr>\n",
              "  </thead>\n",
              "  <tbody>\n",
              "    <tr>\n",
              "      <th>0</th>\n",
              "      <td>Absolutely wonderful - silky and sexy and comf...</td>\n",
              "      <td>33</td>\n",
              "      <td>0</td>\n",
              "      <td>1</td>\n",
              "    </tr>\n",
              "    <tr>\n",
              "      <th>1</th>\n",
              "      <td>Love this dress!  it's sooo pretty.  i happene...</td>\n",
              "      <td>34</td>\n",
              "      <td>4</td>\n",
              "      <td>1</td>\n",
              "    </tr>\n",
              "    <tr>\n",
              "      <th>2</th>\n",
              "      <td>Some major design flawsI had such high hopes f...</td>\n",
              "      <td>60</td>\n",
              "      <td>0</td>\n",
              "      <td>0</td>\n",
              "    </tr>\n",
              "    <tr>\n",
              "      <th>3</th>\n",
              "      <td>My favorite buy!I love, love, love this jumpsu...</td>\n",
              "      <td>50</td>\n",
              "      <td>0</td>\n",
              "      <td>1</td>\n",
              "    </tr>\n",
              "    <tr>\n",
              "      <th>4</th>\n",
              "      <td>Flattering shirtThis shirt is very flattering ...</td>\n",
              "      <td>47</td>\n",
              "      <td>6</td>\n",
              "      <td>1</td>\n",
              "    </tr>\n",
              "  </tbody>\n",
              "</table>\n",
              "</div>"
            ],
            "text/plain": [
              "                                              Review  ...  Recommended\n",
              "0  Absolutely wonderful - silky and sexy and comf...  ...            1\n",
              "1  Love this dress!  it's sooo pretty.  i happene...  ...            1\n",
              "2  Some major design flawsI had such high hopes f...  ...            0\n",
              "3  My favorite buy!I love, love, love this jumpsu...  ...            1\n",
              "4  Flattering shirtThis shirt is very flattering ...  ...            1\n",
              "\n",
              "[5 rows x 4 columns]"
            ]
          },
          "metadata": {},
          "execution_count": 798
        }
      ]
    },
    {
      "cell_type": "markdown",
      "metadata": {
        "id": "T3DtNfBN7gh5"
      },
      "source": [
        "#### There is some imbalance in the data based on product recommendations"
      ]
    },
    {
      "cell_type": "code",
      "metadata": {
        "id": "XFZRMQuw7gh6",
        "colab": {
          "base_uri": "https://localhost:8080/"
        },
        "outputId": "295134f6-40b3-4d08-add5-f8dd69fc9237"
      },
      "source": [
        "df['Recommended'].value_counts()"
      ],
      "execution_count": null,
      "outputs": [
        {
          "output_type": "execute_result",
          "data": {
            "text/plain": [
              "1    18541\n",
              "0     4101\n",
              "Name: Recommended, dtype: int64"
            ]
          },
          "metadata": {},
          "execution_count": 799
        }
      ]
    },
    {
      "cell_type": "markdown",
      "metadata": {
        "id": "CtwUKJRz7gh6"
      },
      "source": [
        "## Build train and test datasets\n",
        "\n",
        "We use a standard 70:30 split here"
      ]
    },
    {
      "cell_type": "code",
      "metadata": {
        "id": "18tjQTzp7gh7",
        "colab": {
          "base_uri": "https://localhost:8080/"
        },
        "outputId": "a5351f4a-f99d-4387-b6ac-e62392c8dad5"
      },
      "source": [
        "from sklearn.model_selection import train_test_split\n",
        "\n",
        "X_train, X_test, y_train, y_test = train_test_split(df.drop(columns=['Recommended']), df['Recommended'], test_size=0.3, random_state=42)\n",
        "X_train.shape, X_test.shape"
      ],
      "execution_count": null,
      "outputs": [
        {
          "output_type": "execute_result",
          "data": {
            "text/plain": [
              "((15849, 3), (6793, 3))"
            ]
          },
          "metadata": {},
          "execution_count": 800
        }
      ]
    },
    {
      "cell_type": "code",
      "metadata": {
        "id": "K2euEUPE_LAJ",
        "colab": {
          "base_uri": "https://localhost:8080/"
        },
        "outputId": "20ed252a-47d2-475d-97c7-447ee6719487"
      },
      "source": [
        "from collections import Counter\n",
        "Counter(y_train), Counter(y_test)"
      ],
      "execution_count": null,
      "outputs": [
        {
          "output_type": "execute_result",
          "data": {
            "text/plain": [
              "(Counter({0: 2883, 1: 12966}), Counter({0: 1218, 1: 5575}))"
            ]
          },
          "metadata": {},
          "execution_count": 801
        }
      ]
    },
    {
      "cell_type": "code",
      "metadata": {
        "id": "um6P6-KQ_g9B",
        "colab": {
          "base_uri": "https://localhost:8080/",
          "height": 143
        },
        "outputId": "0cd01ccb-806a-4cc6-dac6-101682a581ca"
      },
      "source": [
        "X_train.head(3)"
      ],
      "execution_count": null,
      "outputs": [
        {
          "output_type": "execute_result",
          "data": {
            "text/html": [
              "<div>\n",
              "<style scoped>\n",
              "    .dataframe tbody tr th:only-of-type {\n",
              "        vertical-align: middle;\n",
              "    }\n",
              "\n",
              "    .dataframe tbody tr th {\n",
              "        vertical-align: top;\n",
              "    }\n",
              "\n",
              "    .dataframe thead th {\n",
              "        text-align: right;\n",
              "    }\n",
              "</style>\n",
              "<table border=\"1\" class=\"dataframe\">\n",
              "  <thead>\n",
              "    <tr style=\"text-align: right;\">\n",
              "      <th></th>\n",
              "      <th>Review</th>\n",
              "      <th>Age</th>\n",
              "      <th>Positive Feedback Count</th>\n",
              "    </tr>\n",
              "  </thead>\n",
              "  <tbody>\n",
              "    <tr>\n",
              "      <th>4654</th>\n",
              "      <td>Sexy and flowsI love this jumpsuit! i'm usuall...</td>\n",
              "      <td>79</td>\n",
              "      <td>8</td>\n",
              "    </tr>\n",
              "    <tr>\n",
              "      <th>5333</th>\n",
              "      <td>Wanted to love itThe dresss is much shorter th...</td>\n",
              "      <td>32</td>\n",
              "      <td>3</td>\n",
              "    </tr>\n",
              "    <tr>\n",
              "      <th>22502</th>\n",
              "      <td>So cute! though inside not softI got the cream...</td>\n",
              "      <td>34</td>\n",
              "      <td>0</td>\n",
              "    </tr>\n",
              "  </tbody>\n",
              "</table>\n",
              "</div>"
            ],
            "text/plain": [
              "                                                  Review  ...  Positive Feedback Count\n",
              "4654   Sexy and flowsI love this jumpsuit! i'm usuall...  ...                        8\n",
              "5333   Wanted to love itThe dresss is much shorter th...  ...                        3\n",
              "22502  So cute! though inside not softI got the cream...  ...                        0\n",
              "\n",
              "[3 rows x 3 columns]"
            ]
          },
          "metadata": {},
          "execution_count": 802
        }
      ]
    },
    {
      "cell_type": "code",
      "metadata": {
        "id": "M5ibJRe3_i5i",
        "colab": {
          "base_uri": "https://localhost:8080/"
        },
        "outputId": "c77e8793-c85d-4079-b566-e61ec0d83d26"
      },
      "source": [
        "y_train[:3]"
      ],
      "execution_count": null,
      "outputs": [
        {
          "output_type": "execute_result",
          "data": {
            "text/plain": [
              "4654     1\n",
              "5333     0\n",
              "22502    1\n",
              "Name: Recommended, dtype: int64"
            ]
          },
          "metadata": {},
          "execution_count": 803
        }
      ]
    },
    {
      "cell_type": "markdown",
      "metadata": {
        "id": "XxelSlT9AGoM"
      },
      "source": [
        "## Building predictive models for product recommendation__\n",
        "\n",
        "- __Experiment 1:__ Basic NLP Count based features, Structured Features (Age and Feedback Count) + Logistic Regression\n",
        "\n",
        "- __Experiment 2:__ Features from Sentiment Analysis + Logistic Regression\n",
        "\n",
        "- __Experiment 3:__ BOW features (1-gram) + Logistic Regression\n",
        "\n",
        "- __Experiment 4:__ BOW features (2-gram) + Logistic Regression\n",
        "\n",
        "- __Experiment 5:__ BOW features (3-gram) + Logistic Regression\n",
        "\n",
        "- __Experiment 6:__ BOW features (3-gram) + Feature Selection + Logistic Regression\n",
        "\n",
        "- __Experiment 7:__ BOW features (3-gram) + Feature Selection + Structuref Features (Age and Feedback Count) + Logistic Regression\n",
        "\n",
        "- __Experiment 8:__ Same as Experiment 7 but use TF-IDF features\n",
        "\n"
      ]
    },
    {
      "cell_type": "markdown",
      "metadata": {
        "id": "rTrykSoy7gh8"
      },
      "source": [
        "### __Experiment 1: Basic NLP Count based Features & Age, Feedback Count__\n",
        "\n",
        "A number of basic text based features can also be created which sometimes are helpful for improving text classification models. \n",
        "Some examples are:\n",
        "\n",
        "- __Word Count:__ total number of words in the documents\n",
        "- __Character Count:__ total number of characters in the documents\n",
        "- __Average Word Density:__ average length of the words used in the documents\n",
        "- __Puncutation Count:__ total number of punctuation marks in the documents\n",
        "- __Upper Case Count:__ total number of upper count words in the documents\n",
        "- __Title Word Count:__ total number of proper case (title) words in the documents\n",
        "\n"
      ]
    },
    {
      "cell_type": "code",
      "metadata": {
        "id": "do-3EGjB7gh8"
      },
      "source": [
        "import string\n",
        "\n",
        "feature_col = 'Review'\n",
        "X_train['char_count'] = X_train[feature_col].apply(len)\n",
        "X_train['word_count'] = X_train[feature_col].apply(lambda x: len(x.split()))\n",
        "X_train['word_density'] = X_train['char_count'] / (X_train['word_count']+1)\n",
        "X_train['punctuation_count'] = X_train[feature_col].apply(lambda x: len(\"\".join(_ for _ in x if _ in string.punctuation))) \n",
        "X_train['title_word_count'] = X_train[feature_col].apply(lambda x: len([wrd for wrd in x.split() if wrd.istitle()]))\n",
        "X_train['upper_case_word_count'] = X_train[feature_col].apply(lambda x: len([wrd for wrd in x.split() if wrd.isupper()]))\n",
        "\n",
        "\n",
        "X_test['char_count'] = X_test[feature_col].apply(len)\n",
        "X_test['word_count'] = X_test[feature_col].apply(lambda x: len(x.split()))\n",
        "X_test['word_density'] = X_test['char_count'] / (X_test['word_count']+1)\n",
        "X_test['punctuation_count'] = X_test[feature_col].apply(lambda x: len(\"\".join(_ for _ in x if _ in string.punctuation)))  \n",
        "X_test['title_word_count'] = X_test[feature_col].apply(lambda x: len([wrd for wrd in x.split() if wrd.istitle()]))\n",
        "X_test['upper_case_word_count'] = X_test[feature_col].apply(lambda x: len([wrd for wrd in x.split() if wrd.isupper()]))"
      ],
      "execution_count": null,
      "outputs": []
    },
    {
      "cell_type": "code",
      "metadata": {
        "id": "tIvHqtTP7gh9",
        "colab": {
          "base_uri": "https://localhost:8080/",
          "height": 747
        },
        "outputId": "55693515-344b-4049-b6fe-ca37ec2b5a28"
      },
      "source": [
        "X_train.head()"
      ],
      "execution_count": null,
      "outputs": [
        {
          "output_type": "execute_result",
          "data": {
            "text/html": [
              "<div>\n",
              "<style scoped>\n",
              "    .dataframe tbody tr th:only-of-type {\n",
              "        vertical-align: middle;\n",
              "    }\n",
              "\n",
              "    .dataframe tbody tr th {\n",
              "        vertical-align: top;\n",
              "    }\n",
              "\n",
              "    .dataframe thead th {\n",
              "        text-align: right;\n",
              "    }\n",
              "</style>\n",
              "<table border=\"1\" class=\"dataframe\">\n",
              "  <thead>\n",
              "    <tr style=\"text-align: right;\">\n",
              "      <th></th>\n",
              "      <th>Review</th>\n",
              "      <th>Age</th>\n",
              "      <th>Positive Feedback Count</th>\n",
              "      <th>char_count</th>\n",
              "      <th>word_count</th>\n",
              "      <th>word_density</th>\n",
              "      <th>punctuation_count</th>\n",
              "      <th>title_word_count</th>\n",
              "      <th>upper_case_word_count</th>\n",
              "    </tr>\n",
              "  </thead>\n",
              "  <tbody>\n",
              "    <tr>\n",
              "      <th>4654</th>\n",
              "      <td>Sexy and flowsI love this jumpsuit! i'm usuall...</td>\n",
              "      <td>79</td>\n",
              "      <td>8</td>\n",
              "      <td>468</td>\n",
              "      <td>94</td>\n",
              "      <td>4.926316</td>\n",
              "      <td>17</td>\n",
              "      <td>1</td>\n",
              "      <td>0</td>\n",
              "    </tr>\n",
              "    <tr>\n",
              "      <th>5333</th>\n",
              "      <td>Wanted to love itThe dresss is much shorter th...</td>\n",
              "      <td>32</td>\n",
              "      <td>3</td>\n",
              "      <td>143</td>\n",
              "      <td>25</td>\n",
              "      <td>5.500000</td>\n",
              "      <td>4</td>\n",
              "      <td>1</td>\n",
              "      <td>0</td>\n",
              "    </tr>\n",
              "    <tr>\n",
              "      <th>22502</th>\n",
              "      <td>So cute! though inside not softI got the cream...</td>\n",
              "      <td>34</td>\n",
              "      <td>0</td>\n",
              "      <td>450</td>\n",
              "      <td>92</td>\n",
              "      <td>4.838710</td>\n",
              "      <td>14</td>\n",
              "      <td>1</td>\n",
              "      <td>0</td>\n",
              "    </tr>\n",
              "    <tr>\n",
              "      <th>392</th>\n",
              "      <td>Lovely fabric but tiny hipsIf your hips are bi...</td>\n",
              "      <td>34</td>\n",
              "      <td>0</td>\n",
              "      <td>395</td>\n",
              "      <td>82</td>\n",
              "      <td>4.759036</td>\n",
              "      <td>6</td>\n",
              "      <td>1</td>\n",
              "      <td>0</td>\n",
              "    </tr>\n",
              "    <tr>\n",
              "      <th>372</th>\n",
              "      <td>So coolThis has great drape, length, the patte...</td>\n",
              "      <td>57</td>\n",
              "      <td>1</td>\n",
              "      <td>291</td>\n",
              "      <td>55</td>\n",
              "      <td>5.196429</td>\n",
              "      <td>10</td>\n",
              "      <td>1</td>\n",
              "      <td>0</td>\n",
              "    </tr>\n",
              "  </tbody>\n",
              "</table>\n",
              "</div>"
            ],
            "text/plain": [
              "                                                  Review  ...  upper_case_word_count\n",
              "4654   Sexy and flowsI love this jumpsuit! i'm usuall...  ...                      0\n",
              "5333   Wanted to love itThe dresss is much shorter th...  ...                      0\n",
              "22502  So cute! though inside not softI got the cream...  ...                      0\n",
              "392    Lovely fabric but tiny hipsIf your hips are bi...  ...                      0\n",
              "372    So coolThis has great drape, length, the patte...  ...                      0\n",
              "\n",
              "[5 rows x 9 columns]"
            ]
          },
          "metadata": {},
          "execution_count": 805
        }
      ]
    },
    {
      "cell_type": "markdown",
      "metadata": {
        "id": "cl7-n9F27gh9"
      },
      "source": [
        "#### Initializing a Logistic Regression Model \n",
        "\n",
        "A logistic regression model is easy to train, interpret and works well on a wide variety of NLP problems. We initialize a Logistic Regression Model here."
      ]
    },
    {
      "cell_type": "code",
      "metadata": {
        "id": "1jIAmKS47gh-"
      },
      "source": [
        "from sklearn.linear_model import LogisticRegression\n",
        "\n",
        "lr = LogisticRegression(C=1, random_state=42, solver='lbfgs', max_iter=1e4)"
      ],
      "execution_count": null,
      "outputs": []
    },
    {
      "cell_type": "markdown",
      "metadata": {
        "id": "etwy_fpl7gh-"
      },
      "source": [
        "#### Model Evaluation Metrics \n",
        "\n",
        "Just accuracy is never enough in datasets with a rare class problem.\n",
        "\n",
        "- __Precision:__ The positive predictive power of a model. Out of all the predictions made by a model for a class, how many are actually correct\n",
        "- __Recall:__ The coverage or hit-rate of a model. Out of all the test data samples belonging to a class, how many was the model able to predict (hit or cover) correctly.\n",
        "- __F1-score:__ The harmonic mean of the precision and recall"
      ]
    },
    {
      "cell_type": "markdown",
      "metadata": {
        "id": "61OkCTKfojVR"
      },
      "source": [
        "#### Model Training and Evaluation\n",
        "\n",
        "- Train model on training data\n",
        "- Make predictions on test data\n",
        "- Evaluate performance using confusion matrix and relevant metrics"
      ]
    },
    {
      "cell_type": "code",
      "metadata": {
        "id": "6DVpyKjI7gh-",
        "colab": {
          "base_uri": "https://localhost:8080/"
        },
        "outputId": "d0d69b6c-790f-4205-f146-0c8299498e2e"
      },
      "source": [
        "from sklearn.metrics import classification_report, confusion_matrix\n",
        "\n",
        "# fit model here (remember to drop the Review column)\n",
        "X_train1 = X_train.drop(columns='Review')\n",
        "X_test1 = X_test.drop(columns='Review')\n",
        "#X_train.head(4)\n",
        "#X_train.head(4)\n",
        "lr.fit(X_train1,y_train)\n",
        "# predict on the test dataframe (remember to drop the Review column)\n",
        "predictions = lr.predict(X_test1)\n",
        "\n",
        "# evaluate model performance\n",
        "print(confusion_matrix(y_test, predictions))\n",
        "print(classification_report(y_test, predictions))"
      ],
      "execution_count": null,
      "outputs": [
        {
          "output_type": "stream",
          "name": "stdout",
          "text": [
            "[[   0 1218]\n",
            " [   2 5573]]\n",
            "              precision    recall  f1-score   support\n",
            "\n",
            "           0       0.00      0.00      0.00      1218\n",
            "           1       0.82      1.00      0.90      5575\n",
            "\n",
            "    accuracy                           0.82      6793\n",
            "   macro avg       0.41      0.50      0.45      6793\n",
            "weighted avg       0.67      0.82      0.74      6793\n",
            "\n"
          ]
        }
      ]
    },
    {
      "cell_type": "markdown",
      "metadata": {
        "id": "7mjnClWY7gh_"
      },
      "source": [
        "We have a really bad model here meaning the features were completely useless! \n",
        "\n",
        "Can we do better? Let's first drop those not so useful features."
      ]
    },
    {
      "cell_type": "code",
      "metadata": {
        "id": "DVa45sM7_NuP"
      },
      "source": [
        "X_train.drop(['char_count', 'word_count', 'word_density', \n",
        "              'punctuation_count', 'title_word_count', 'upper_case_word_count'], axis=1, inplace=True)\n",
        "X_test.drop(['char_count', 'word_count', 'word_density', \n",
        "              'punctuation_count', 'title_word_count', 'upper_case_word_count'], axis=1, inplace=True)"
      ],
      "execution_count": null,
      "outputs": []
    },
    {
      "cell_type": "markdown",
      "metadata": {
        "id": "AimBeGbK7giF"
      },
      "source": [
        "### __Experiment 2: Features from Sentiment Analysis__ \n",
        "\n",
        "This is unsupervised, lexicon-based sentiment analysis where we don't have any pre-labeled data saying which review might have a positive or negative sentiment. We use the lexicon to determine this."
      ]
    },
    {
      "cell_type": "markdown",
      "metadata": {
        "id": "zgXSU9UG7giD"
      },
      "source": [
        "#### Leveraging Text Sentiment\n",
        "\n",
        "Reviews are pretty subjective, opinionated and people often express stong emotions, feelings. \n",
        "This makes it a classic case where the text documents here are a good candidate for extracting sentiment as a feature.\n",
        "\n",
        "The general expectation is that highly rated and recommended products (__label 1__) should have a __positive__ sentiment and products which are not recommended (__label 0__) should have a __negative__ sentiment.\n",
        "\n",
        "TextBlob is an excellent open-source library for performing NLP tasks with ease, including sentiment analysis. It also an a sentiment lexicon (in the form of an XML file) which it leverages to give both polarity and subjectivity scores. \n",
        "\n",
        "- The polarity score is a float within the range [-1.0, 1.0]. \n",
        "- The subjectivity is a float within the range [0.0, 1.0] where 0.0 is very objective and 1.0 is very subjective. \n",
        "\n",
        "Perhaps this could be used for getting some new features. Let's look at some basic examples."
      ]
    },
    {
      "cell_type": "code",
      "metadata": {
        "id": "Q0xNIVCJ7giD",
        "colab": {
          "base_uri": "https://localhost:8080/"
        },
        "outputId": "a561062a-6989-466f-dde6-059bf156818d"
      },
      "source": [
        "import textblob\n",
        "\n",
        "textblob.TextBlob('This is an AMAZING pair of Jeans!').sentiment"
      ],
      "execution_count": null,
      "outputs": [
        {
          "output_type": "execute_result",
          "data": {
            "text/plain": [
              "Sentiment(polarity=0.7500000000000001, subjectivity=0.9)"
            ]
          },
          "metadata": {},
          "execution_count": 809
        }
      ]
    },
    {
      "cell_type": "code",
      "metadata": {
        "id": "rA-HoZgY7giE",
        "colab": {
          "base_uri": "https://localhost:8080/"
        },
        "outputId": "fb74647e-c697-4010-cdf4-3e8ef22166c1"
      },
      "source": [
        "textblob.TextBlob('I really hated this UGLY T-shirt!!').sentiment"
      ],
      "execution_count": null,
      "outputs": [
        {
          "output_type": "execute_result",
          "data": {
            "text/plain": [
              "Sentiment(polarity=-0.95, subjectivity=0.85)"
            ]
          },
          "metadata": {},
          "execution_count": 810
        }
      ]
    },
    {
      "cell_type": "markdown",
      "metadata": {
        "id": "chtDUn-K7giF"
      },
      "source": [
        "Looks like this should help us get features which can distinguish between good and bad products. Let's try it out on our dataset!"
      ]
    },
    {
      "cell_type": "code",
      "metadata": {
        "id": "Cjcwd27K7giF"
      },
      "source": [
        "# remember to get the polarity and subjectivity fields as you learnt in feature engineering\n",
        "\n",
        "X_train_snt_obj = X_train['Review'].apply(lambda row: textblob.TextBlob(row).sentiment)\n",
        "X_train['Polarity'] = [obj.polarity for obj in X_train_snt_obj.values]\n",
        "X_train['Subjectivity'] = [obj.subjectivity for obj in X_train_snt_obj.values]\n",
        "\n",
        "# remember to get the polarity and subjectivity fields as you learnt in feature engineering\n",
        "X_test_snt_obj = X_test['Review'].apply(lambda row: textblob.TextBlob(row).sentiment)\n",
        "X_test['Polarity'] = [obj.polarity for obj in X_test_snt_obj.values]\n",
        "X_test['Subjectivity'] = [obj.subjectivity for obj in X_test_snt_obj.values]"
      ],
      "execution_count": null,
      "outputs": []
    },
    {
      "cell_type": "code",
      "metadata": {
        "id": "6WTld6QD7giF",
        "colab": {
          "base_uri": "https://localhost:8080/",
          "height": 206
        },
        "outputId": "ffb60e01-b010-4294-d87d-a88b911fd523"
      },
      "source": [
        "X_train.head()"
      ],
      "execution_count": null,
      "outputs": [
        {
          "output_type": "execute_result",
          "data": {
            "text/html": [
              "<div>\n",
              "<style scoped>\n",
              "    .dataframe tbody tr th:only-of-type {\n",
              "        vertical-align: middle;\n",
              "    }\n",
              "\n",
              "    .dataframe tbody tr th {\n",
              "        vertical-align: top;\n",
              "    }\n",
              "\n",
              "    .dataframe thead th {\n",
              "        text-align: right;\n",
              "    }\n",
              "</style>\n",
              "<table border=\"1\" class=\"dataframe\">\n",
              "  <thead>\n",
              "    <tr style=\"text-align: right;\">\n",
              "      <th></th>\n",
              "      <th>Review</th>\n",
              "      <th>Age</th>\n",
              "      <th>Positive Feedback Count</th>\n",
              "      <th>Polarity</th>\n",
              "      <th>Subjectivity</th>\n",
              "    </tr>\n",
              "  </thead>\n",
              "  <tbody>\n",
              "    <tr>\n",
              "      <th>4654</th>\n",
              "      <td>Sexy and flowsI love this jumpsuit! i'm usuall...</td>\n",
              "      <td>79</td>\n",
              "      <td>8</td>\n",
              "      <td>0.237380</td>\n",
              "      <td>0.641259</td>\n",
              "    </tr>\n",
              "    <tr>\n",
              "      <th>5333</th>\n",
              "      <td>Wanted to love itThe dresss is much shorter th...</td>\n",
              "      <td>32</td>\n",
              "      <td>3</td>\n",
              "      <td>0.260000</td>\n",
              "      <td>0.400000</td>\n",
              "    </tr>\n",
              "    <tr>\n",
              "      <th>22502</th>\n",
              "      <td>So cute! though inside not softI got the cream...</td>\n",
              "      <td>34</td>\n",
              "      <td>0</td>\n",
              "      <td>0.208854</td>\n",
              "      <td>0.589583</td>\n",
              "    </tr>\n",
              "    <tr>\n",
              "      <th>392</th>\n",
              "      <td>Lovely fabric but tiny hipsIf your hips are bi...</td>\n",
              "      <td>34</td>\n",
              "      <td>0</td>\n",
              "      <td>0.114286</td>\n",
              "      <td>0.610440</td>\n",
              "    </tr>\n",
              "    <tr>\n",
              "      <th>372</th>\n",
              "      <td>So coolThis has great drape, length, the patte...</td>\n",
              "      <td>57</td>\n",
              "      <td>1</td>\n",
              "      <td>0.314583</td>\n",
              "      <td>0.738889</td>\n",
              "    </tr>\n",
              "  </tbody>\n",
              "</table>\n",
              "</div>"
            ],
            "text/plain": [
              "                                                  Review  ...  Subjectivity\n",
              "4654   Sexy and flowsI love this jumpsuit! i'm usuall...  ...      0.641259\n",
              "5333   Wanted to love itThe dresss is much shorter th...  ...      0.400000\n",
              "22502  So cute! though inside not softI got the cream...  ...      0.589583\n",
              "392    Lovely fabric but tiny hipsIf your hips are bi...  ...      0.610440\n",
              "372    So coolThis has great drape, length, the patte...  ...      0.738889\n",
              "\n",
              "[5 rows x 5 columns]"
            ]
          },
          "metadata": {},
          "execution_count": 812
        }
      ]
    },
    {
      "cell_type": "markdown",
      "metadata": {
        "id": "o6YMTxpb7giG"
      },
      "source": [
        "#### Model Training and Evaluation\n",
        "\n",
        "- Train model on training data\n",
        "- Make predictions on test data\n",
        "- Evaluate performance using confusion matrix and relevant metrics"
      ]
    },
    {
      "cell_type": "code",
      "metadata": {
        "id": "Fv4ft5GA7giG",
        "colab": {
          "base_uri": "https://localhost:8080/"
        },
        "outputId": "b704acd9-7a54-46ca-8ebb-ac5ed89385db"
      },
      "source": [
        "# fit model here (remember to drop the Review column)\n",
        "X_train2 = X_train.drop(columns='Review')\n",
        "X_test2 = X_test.drop(columns='Review')\n",
        "lr.fit(X_train2,y_train)\n",
        "# predict on the test dataframe (remember to drop the Review column)\n",
        "predictions2 = lr.predict(X_test2)\n",
        "\n",
        "# evaluate model performance\n",
        "print(confusion_matrix(y_test, predictions2))\n",
        "print(classification_report(y_test, predictions2))"
      ],
      "execution_count": null,
      "outputs": [
        {
          "output_type": "stream",
          "name": "stdout",
          "text": [
            "[[ 168 1050]\n",
            " [  95 5480]]\n",
            "              precision    recall  f1-score   support\n",
            "\n",
            "           0       0.64      0.14      0.23      1218\n",
            "           1       0.84      0.98      0.91      5575\n",
            "\n",
            "    accuracy                           0.83      6793\n",
            "   macro avg       0.74      0.56      0.57      6793\n",
            "weighted avg       0.80      0.83      0.78      6793\n",
            "\n"
          ]
        }
      ]
    },
    {
      "cell_type": "markdown",
      "metadata": {
        "id": "6PqVyTg47giG"
      },
      "source": [
        "This is a better model than Experiment 1\n",
        "\n",
        "Can we still improve on our model since the recall of bad reviews is still pretty low?"
      ]
    },
    {
      "cell_type": "markdown",
      "metadata": {
        "id": "iSwuHSn57giH"
      },
      "source": [
        "#### __Text Pre-processing and Wrangling__\n",
        "\n",
        "We want to extract some specific features based on standard NLP feature engineering models like the classic Bag of Words model.\n",
        "For this we need to clean and pre-process our text data. We will build a simple text pre-processor here since the main intent is to look at feature engineering strategies.\n",
        "\n",
        "Focus is on:\n",
        "- Text Lowercasing\n",
        "- Removal of contractions\n",
        "- Removing unnecessary characters, numbers and symbols\n",
        "- Stopword removal"
      ]
    },
    {
      "cell_type": "code",
      "metadata": {
        "id": "xet6Y_fpCC_Y",
        "colab": {
          "base_uri": "https://localhost:8080/"
        },
        "outputId": "60cf776e-05af-493c-ba0a-c8af51409a56"
      },
      "source": [
        "!pip install contractions\n",
        "!pip install textsearch\n",
        "!pip install tqdm"
      ],
      "execution_count": null,
      "outputs": [
        {
          "output_type": "stream",
          "name": "stdout",
          "text": [
            "Requirement already satisfied: contractions in /usr/local/lib/python3.7/dist-packages (0.0.52)\n",
            "Requirement already satisfied: textsearch>=0.0.21 in /usr/local/lib/python3.7/dist-packages (from contractions) (0.0.21)\n",
            "Requirement already satisfied: anyascii in /usr/local/lib/python3.7/dist-packages (from textsearch>=0.0.21->contractions) (0.3.0)\n",
            "Requirement already satisfied: pyahocorasick in /usr/local/lib/python3.7/dist-packages (from textsearch>=0.0.21->contractions) (1.4.2)\n",
            "Requirement already satisfied: textsearch in /usr/local/lib/python3.7/dist-packages (0.0.21)\n",
            "Requirement already satisfied: anyascii in /usr/local/lib/python3.7/dist-packages (from textsearch) (0.3.0)\n",
            "Requirement already satisfied: pyahocorasick in /usr/local/lib/python3.7/dist-packages (from textsearch) (1.4.2)\n",
            "Requirement already satisfied: tqdm in /usr/local/lib/python3.7/dist-packages (4.62.3)\n"
          ]
        }
      ]
    },
    {
      "cell_type": "code",
      "metadata": {
        "id": "j4MS-_4a7giH",
        "colab": {
          "base_uri": "https://localhost:8080/"
        },
        "outputId": "5faec0b6-39de-4c4d-bf95-fa68b7ab9e58"
      },
      "source": [
        "import nltk\n",
        "import contractions\n",
        "import re\n",
        "import tqdm\n",
        "\n",
        "nltk.download('punkt')\n",
        "nltk.download('stopwords')\n",
        "nltk.download('averaged_perceptron_tagger')"
      ],
      "execution_count": null,
      "outputs": [
        {
          "output_type": "stream",
          "name": "stdout",
          "text": [
            "[nltk_data] Downloading package punkt to /root/nltk_data...\n",
            "[nltk_data]   Package punkt is already up-to-date!\n",
            "[nltk_data] Downloading package stopwords to /root/nltk_data...\n",
            "[nltk_data]   Package stopwords is already up-to-date!\n",
            "[nltk_data] Downloading package averaged_perceptron_tagger to\n",
            "[nltk_data]     /root/nltk_data...\n",
            "[nltk_data]   Package averaged_perceptron_tagger is already up-to-\n",
            "[nltk_data]       date!\n"
          ]
        },
        {
          "output_type": "execute_result",
          "data": {
            "text/plain": [
              "True"
            ]
          },
          "metadata": {},
          "execution_count": 815
        }
      ]
    },
    {
      "cell_type": "code",
      "metadata": {
        "id": "XDR7QMBw7giH"
      },
      "source": [
        "# remove some stopwords to capture negation in n-grams later on if possible\n",
        "stopwords = nltk.corpus.stopwords.words('english')\n",
        "stopwords.remove('no')\n",
        "stopwords.remove('not')\n",
        "stopwords.remove('but')\n",
        "\n",
        "# FILL THIS IN\n",
        "def normalize_corpus(docs):\n",
        "    norm_docs = []\n",
        "    for doc in tqdm.tqdm(docs):\n",
        "        # fix contractions\n",
        "        doc = contractions.fix(doc)\n",
        "        # remove special characters and digits\n",
        "        #doc = re.sub(r'([^a-zA-Z ]+?)',' ', doc)\n",
        "        doc = re.sub(r'[^a-zA-Z\\s]', '',doc, re.I|re.A)\n",
        "        # lower case\n",
        "        doc = doc.lower()\n",
        "        # strip whitespaces\n",
        "        doc = re.sub(' +', ' ',doc)\n",
        "        # tokenize document\n",
        "        tokens=nltk.word_tokenize(doc)\n",
        "        #filter stopwords out of document\n",
        "        doc_tokens = [token for token in tokens if token not in stopwords]\n",
        "        # re-create document from filtered tokens\n",
        "        #doc_tokens = list(filter(None, doc_tokens))\n",
        "        doc_tokens = ' '.join(doc_tokens)\n",
        "        # append doc to norm_docs\n",
        "        if doc_tokens:\n",
        "            norm_docs.append(doc_tokens)\n",
        "\n",
        "    return norm_docs\n"
      ],
      "execution_count": null,
      "outputs": []
    },
    {
      "cell_type": "code",
      "metadata": {
        "id": "wHtJdSHp7giH",
        "colab": {
          "base_uri": "https://localhost:8080/"
        },
        "outputId": "2665aeae-a092-4f01-ab44-8f55220244a8"
      },
      "source": [
        "X_train['Clean Review'] = normalize_corpus(X_train['Review'])\n",
        "X_test['Clean Review'] = normalize_corpus(X_test['Review'])\n"
      ],
      "execution_count": null,
      "outputs": [
        {
          "output_type": "stream",
          "name": "stderr",
          "text": [
            "100%|██████████| 15849/15849 [00:08<00:00, 1947.82it/s]\n",
            "100%|██████████| 6793/6793 [00:03<00:00, 1962.20it/s]\n"
          ]
        }
      ]
    },
    {
      "cell_type": "markdown",
      "metadata": {
        "id": "Z_5-65DDKY82"
      },
      "source": [
        "#### Remove the review column now since we don't need it anymore and restructure our dataframes"
      ]
    },
    {
      "cell_type": "code",
      "metadata": {
        "id": "l-vcTqxZEFUn",
        "colab": {
          "base_uri": "https://localhost:8080/",
          "height": 206
        },
        "outputId": "2384e69f-62fc-4b77-df01-ea590023a5c7"
      },
      "source": [
        "X_train = X_train[['Clean Review', 'Age', 'Positive Feedback Count', 'Polarity', 'Subjectivity']]\n",
        "X_test = X_test[['Clean Review', 'Age', 'Positive Feedback Count', 'Polarity', 'Subjectivity']]\n",
        "\n",
        "X_train.head()"
      ],
      "execution_count": null,
      "outputs": [
        {
          "output_type": "execute_result",
          "data": {
            "text/html": [
              "<div>\n",
              "<style scoped>\n",
              "    .dataframe tbody tr th:only-of-type {\n",
              "        vertical-align: middle;\n",
              "    }\n",
              "\n",
              "    .dataframe tbody tr th {\n",
              "        vertical-align: top;\n",
              "    }\n",
              "\n",
              "    .dataframe thead th {\n",
              "        text-align: right;\n",
              "    }\n",
              "</style>\n",
              "<table border=\"1\" class=\"dataframe\">\n",
              "  <thead>\n",
              "    <tr style=\"text-align: right;\">\n",
              "      <th></th>\n",
              "      <th>Clean Review</th>\n",
              "      <th>Age</th>\n",
              "      <th>Positive Feedback Count</th>\n",
              "      <th>Polarity</th>\n",
              "      <th>Subjectivity</th>\n",
              "    </tr>\n",
              "  </thead>\n",
              "  <tbody>\n",
              "    <tr>\n",
              "      <th>4654</th>\n",
              "      <td>sexy flowsi love jumpsuit usually size small h...</td>\n",
              "      <td>79</td>\n",
              "      <td>8</td>\n",
              "      <td>0.237380</td>\n",
              "      <td>0.641259</td>\n",
              "    </tr>\n",
              "    <tr>\n",
              "      <th>5333</th>\n",
              "      <td>wanted love itthe dresss much shorter describe...</td>\n",
              "      <td>32</td>\n",
              "      <td>3</td>\n",
              "      <td>0.260000</td>\n",
              "      <td>0.400000</td>\n",
              "    </tr>\n",
              "    <tr>\n",
              "      <th>22502</th>\n",
              "      <td>cute though inside not softi got cream color a...</td>\n",
              "      <td>34</td>\n",
              "      <td>0</td>\n",
              "      <td>0.208854</td>\n",
              "      <td>0.589583</td>\n",
              "    </tr>\n",
              "    <tr>\n",
              "      <th>392</th>\n",
              "      <td>lovely fabric but tiny hipsif hips bigger size...</td>\n",
              "      <td>34</td>\n",
              "      <td>0</td>\n",
              "      <td>0.114286</td>\n",
              "      <td>0.610440</td>\n",
              "    </tr>\n",
              "    <tr>\n",
              "      <th>372</th>\n",
              "      <td>coolthis great drape length pattern super vers...</td>\n",
              "      <td>57</td>\n",
              "      <td>1</td>\n",
              "      <td>0.314583</td>\n",
              "      <td>0.738889</td>\n",
              "    </tr>\n",
              "  </tbody>\n",
              "</table>\n",
              "</div>"
            ],
            "text/plain": [
              "                                            Clean Review  ...  Subjectivity\n",
              "4654   sexy flowsi love jumpsuit usually size small h...  ...      0.641259\n",
              "5333   wanted love itthe dresss much shorter describe...  ...      0.400000\n",
              "22502  cute though inside not softi got cream color a...  ...      0.589583\n",
              "392    lovely fabric but tiny hipsif hips bigger size...  ...      0.610440\n",
              "372    coolthis great drape length pattern super vers...  ...      0.738889\n",
              "\n",
              "[5 rows x 5 columns]"
            ]
          },
          "metadata": {},
          "execution_count": 818
        }
      ]
    },
    {
      "cell_type": "markdown",
      "metadata": {
        "id": "vP8AmJx87giI"
      },
      "source": [
        "### Extracting out the structured features from previous experiments\n",
        "\n",
        "__We will extract out the structured columns \\ features so we can use them later on after doing a few experiments with bag of words \n",
        "\n",
        "`X_train_struct` and `X_test_struct` should contain only 4 columns i.e.\n",
        "\n",
        "- Age\n",
        "- Positive Feedback Count\n",
        "- Polarity\n",
        "- Subjectivity"
      ]
    },
    {
      "cell_type": "code",
      "metadata": {
        "id": "U-GT9vq77giI",
        "colab": {
          "base_uri": "https://localhost:8080/",
          "height": 206
        },
        "outputId": "48df8dd8-5153-4663-8545-7203b1414fe9"
      },
      "source": [
        "X_train_struct = X_train.drop(['Clean Review'], axis=1).reset_index(drop=True)\n",
        "X_test_struct = X_test.drop(['Clean Review'], axis=1).reset_index(drop=True)\n",
        "\n",
        "X_train_struct.head()"
      ],
      "execution_count": null,
      "outputs": [
        {
          "output_type": "execute_result",
          "data": {
            "text/html": [
              "<div>\n",
              "<style scoped>\n",
              "    .dataframe tbody tr th:only-of-type {\n",
              "        vertical-align: middle;\n",
              "    }\n",
              "\n",
              "    .dataframe tbody tr th {\n",
              "        vertical-align: top;\n",
              "    }\n",
              "\n",
              "    .dataframe thead th {\n",
              "        text-align: right;\n",
              "    }\n",
              "</style>\n",
              "<table border=\"1\" class=\"dataframe\">\n",
              "  <thead>\n",
              "    <tr style=\"text-align: right;\">\n",
              "      <th></th>\n",
              "      <th>Age</th>\n",
              "      <th>Positive Feedback Count</th>\n",
              "      <th>Polarity</th>\n",
              "      <th>Subjectivity</th>\n",
              "    </tr>\n",
              "  </thead>\n",
              "  <tbody>\n",
              "    <tr>\n",
              "      <th>0</th>\n",
              "      <td>79</td>\n",
              "      <td>8</td>\n",
              "      <td>0.237380</td>\n",
              "      <td>0.641259</td>\n",
              "    </tr>\n",
              "    <tr>\n",
              "      <th>1</th>\n",
              "      <td>32</td>\n",
              "      <td>3</td>\n",
              "      <td>0.260000</td>\n",
              "      <td>0.400000</td>\n",
              "    </tr>\n",
              "    <tr>\n",
              "      <th>2</th>\n",
              "      <td>34</td>\n",
              "      <td>0</td>\n",
              "      <td>0.208854</td>\n",
              "      <td>0.589583</td>\n",
              "    </tr>\n",
              "    <tr>\n",
              "      <th>3</th>\n",
              "      <td>34</td>\n",
              "      <td>0</td>\n",
              "      <td>0.114286</td>\n",
              "      <td>0.610440</td>\n",
              "    </tr>\n",
              "    <tr>\n",
              "      <th>4</th>\n",
              "      <td>57</td>\n",
              "      <td>1</td>\n",
              "      <td>0.314583</td>\n",
              "      <td>0.738889</td>\n",
              "    </tr>\n",
              "  </tbody>\n",
              "</table>\n",
              "</div>"
            ],
            "text/plain": [
              "   Age  Positive Feedback Count  Polarity  Subjectivity\n",
              "0   79                        8  0.237380      0.641259\n",
              "1   32                        3  0.260000      0.400000\n",
              "2   34                        0  0.208854      0.589583\n",
              "3   34                        0  0.114286      0.610440\n",
              "4   57                        1  0.314583      0.738889"
            ]
          },
          "metadata": {},
          "execution_count": 819
        }
      ]
    },
    {
      "cell_type": "markdown",
      "metadata": {
        "id": "D40WbQTE7giI"
      },
      "source": [
        "### __Experiment 3: Modeling based on Bag of Words based Features - 1-grams__\n",
        "\n",
        "This is perhaps the most simple vector space representational model for unstructured text. A vector space model is simply a mathematical model to represent unstructured text (or any other data) as numeric vectors, such that each dimension of the vector is a specific feature\\attribute. \n",
        "\n",
        "The bag of words model represents each text document as a numeric vector where each dimension is a specific word from the corpus and the value could be its frequency in the document, occurrence (denoted by 1 or 0) or even weighted values. \n",
        "\n",
        "The model’s name is such because each document is represented literally as a ‘bag’ of its own words, disregarding word orders, sequences and grammar.\n"
      ]
    },
    {
      "cell_type": "code",
      "metadata": {
        "id": "r9LH-1HQFJ7O"
      },
      "source": [
        "train_clean_text = X_train['Clean Review']\n",
        "test_clean_text = X_test['Clean Review']"
      ],
      "execution_count": null,
      "outputs": []
    },
    {
      "cell_type": "markdown",
      "metadata": {
        "id": "mj_pJUZ3K20-"
      },
      "source": [
        "#### Using the following default config for count vectorizer\n",
        "\n",
        "- `min_df` as 0.0\n",
        "- `max_df` as 1.0\n",
        "- `ngram_range` as (1,1)"
      ]
    },
    {
      "cell_type": "code",
      "metadata": {
        "id": "4Rgrhj7b7giI"
      },
      "source": [
        "from sklearn.feature_extraction.text import CountVectorizer\n",
        "\n",
        "cv = CountVectorizer(min_df=0.0, max_df=1.0,ngram_range=(1,1))\n",
        "\n",
        "X_traincv = cv.fit_transform(train_clean_text)\n",
        "\n",
        "X_testcv = cv.transform(test_clean_text)\n",
        "#X_traincv = train_clean_text.apply(lambda x: cv.fit_transform(x))\n",
        "#X_testcv = test_clean_text.apply(lambda x: cv.fit_transform(x))"
      ],
      "execution_count": null,
      "outputs": []
    },
    {
      "cell_type": "code",
      "metadata": {
        "id": "A-ElsPotFgc2",
        "colab": {
          "base_uri": "https://localhost:8080/"
        },
        "outputId": "ffdd31df-d20c-47e0-c47e-cbd331a216c4"
      },
      "source": [
        "X_traincv"
      ],
      "execution_count": null,
      "outputs": [
        {
          "output_type": "execute_result",
          "data": {
            "text/plain": [
              "<15849x20463 sparse matrix of type '<class 'numpy.int64'>'\n",
              "\twith 450363 stored elements in Compressed Sparse Row format>"
            ]
          },
          "metadata": {},
          "execution_count": 822
        }
      ]
    },
    {
      "cell_type": "markdown",
      "metadata": {
        "id": "FCAJo7797giJ"
      },
      "source": [
        "#### Model Training and Evaluation\n",
        "\n",
        "- Train model on training data\n",
        "- Make predictions on test data\n",
        "- Evaluate performance using confusion matrix and relevant metrics"
      ]
    },
    {
      "cell_type": "code",
      "metadata": {
        "id": "UQzGxThF7giJ",
        "colab": {
          "base_uri": "https://localhost:8080/"
        },
        "outputId": "8df0d2b4-7f2c-488c-84bc-33d003bc1943"
      },
      "source": [
        "# fit model here\n",
        "lr.fit(X_traincv,y_train)\n",
        "\n",
        "# predict on the test vectors\n",
        "predictions3 = lr.predict(X_testcv)\n",
        "\n",
        "# evaluate model performance\n",
        "print(confusion_matrix(y_test, predictions3))\n",
        "print(classification_report(y_test, predictions3))"
      ],
      "execution_count": null,
      "outputs": [
        {
          "output_type": "stream",
          "name": "stdout",
          "text": [
            "[[ 787  431]\n",
            " [ 266 5309]]\n",
            "              precision    recall  f1-score   support\n",
            "\n",
            "           0       0.75      0.65      0.69      1218\n",
            "           1       0.92      0.95      0.94      5575\n",
            "\n",
            "    accuracy                           0.90      6793\n",
            "   macro avg       0.84      0.80      0.82      6793\n",
            "weighted avg       0.89      0.90      0.89      6793\n",
            "\n"
          ]
        }
      ]
    },
    {
      "cell_type": "markdown",
      "metadata": {
        "id": "Vs57ICtj7giK"
      },
      "source": [
        "This looks promising and far better that the previous models.\n",
        "\n",
        "Can we still improve on our model? Let's look at n-grams!"
      ]
    },
    {
      "cell_type": "markdown",
      "metadata": {
        "id": "AY92BDr87giK"
      },
      "source": [
        "### __Experiment 4: Modeling with Bag of Words based Features - 2-grams__\n",
        "\n",
        "We use the same feature engineering technique here except we consider both 1 and 2-grams as our features. "
      ]
    },
    {
      "cell_type": "code",
      "metadata": {
        "id": "yq-nwCmS7giK"
      },
      "source": [
        "cv2 = CountVectorizer(min_df=0.0, max_df=1.0,ngram_range=(1,2))\n",
        "\n",
        "X_traincv2 = cv2.fit_transform(train_clean_text)\n",
        "X_testcv2 = cv2.transform(test_clean_text)"
      ],
      "execution_count": null,
      "outputs": []
    },
    {
      "cell_type": "code",
      "metadata": {
        "id": "-kr5ziDh7giK",
        "colab": {
          "base_uri": "https://localhost:8080/"
        },
        "outputId": "9726c635-34b8-4f7b-a574-44edf7c723ad"
      },
      "source": [
        "X_traincv2"
      ],
      "execution_count": null,
      "outputs": [
        {
          "output_type": "execute_result",
          "data": {
            "text/plain": [
              "<15849x244136 sparse matrix of type '<class 'numpy.int64'>'\n",
              "\twith 934031 stored elements in Compressed Sparse Row format>"
            ]
          },
          "metadata": {},
          "execution_count": 825
        }
      ]
    },
    {
      "cell_type": "markdown",
      "metadata": {
        "id": "d9pCrX7D7giL"
      },
      "source": [
        "#### Model Training and Evaluation\n",
        "\n",
        "- Train model on training data\n",
        "- Make predictions on test data\n",
        "- Evaluate performance using confusion matrix and relevant metrics"
      ]
    },
    {
      "cell_type": "code",
      "metadata": {
        "id": "pw5BXvwI7giL",
        "colab": {
          "base_uri": "https://localhost:8080/"
        },
        "outputId": "c3d1947e-8a5d-4c6b-e02b-79015fe29ca7"
      },
      "source": [
        "# fit model here\n",
        "lr.fit(X_traincv2,y_train)\n",
        "\n",
        "# predict on the test vectors\n",
        "predictions4 = lr.predict(X_testcv2)\n",
        "\n",
        "# evaluate model performance\n",
        "print(confusion_matrix(y_test, predictions4))\n",
        "print(classification_report(y_test, predictions4))"
      ],
      "execution_count": null,
      "outputs": [
        {
          "output_type": "stream",
          "name": "stdout",
          "text": [
            "[[ 798  420]\n",
            " [ 204 5371]]\n",
            "              precision    recall  f1-score   support\n",
            "\n",
            "           0       0.80      0.66      0.72      1218\n",
            "           1       0.93      0.96      0.95      5575\n",
            "\n",
            "    accuracy                           0.91      6793\n",
            "   macro avg       0.86      0.81      0.83      6793\n",
            "weighted avg       0.90      0.91      0.90      6793\n",
            "\n"
          ]
        }
      ]
    },
    {
      "cell_type": "markdown",
      "metadata": {
        "id": "gBNhxzGY7giL"
      },
      "source": [
        "There are some minor improvements"
      ]
    },
    {
      "cell_type": "markdown",
      "metadata": {
        "id": "ZpbAjfq97giP"
      },
      "source": [
        "### __Experiment 5: Adding Bag of Words based Features - 3-grams__ \n",
        "\n",
        "We use the same feature engineering technique here except we consider 1, 2 and 3-grams as our features. "
      ]
    },
    {
      "cell_type": "code",
      "metadata": {
        "id": "gZTHnxZD7giP"
      },
      "source": [
        "cv3 = CountVectorizer(min_df=0.1, max_df=1.0,ngram_range=(1,3))\n",
        "\n",
        "X_traincv3 = cv3.fit_transform(train_clean_text)\n",
        "X_testcv3 = cv3.transform(test_clean_text)"
      ],
      "execution_count": null,
      "outputs": []
    },
    {
      "cell_type": "code",
      "metadata": {
        "id": "Rxc6CO8u7giP",
        "colab": {
          "base_uri": "https://localhost:8080/"
        },
        "outputId": "04bebcca-c1e9-48c2-e29d-1c3c5e28c8db"
      },
      "source": [
        "X_traincv3"
      ],
      "execution_count": null,
      "outputs": [
        {
          "output_type": "execute_result",
          "data": {
            "text/plain": [
              "<15849x38 sparse matrix of type '<class 'numpy.int64'>'\n",
              "\twith 112844 stored elements in Compressed Sparse Row format>"
            ]
          },
          "metadata": {},
          "execution_count": 828
        }
      ]
    },
    {
      "cell_type": "markdown",
      "metadata": {
        "id": "LvOPNX4m3BNE"
      },
      "source": [
        "__Thre is a whole lot of features!__"
      ]
    },
    {
      "cell_type": "markdown",
      "metadata": {
        "id": "feAkxrki7giP"
      },
      "source": [
        "#### Model Training and Evaluation\n",
        "\n",
        "- Train model on training data\n",
        "- Make predictions on test data\n",
        "- Evaluate performance using confusion matrix and relevant metrics"
      ]
    },
    {
      "cell_type": "code",
      "metadata": {
        "id": "-X7v-0Ld7giQ",
        "colab": {
          "base_uri": "https://localhost:8080/"
        },
        "outputId": "ff08f9c0-91ef-412f-b4e3-7a82106ab151"
      },
      "source": [
        "# fit model here\n",
        "lr.fit(X_traincv3,y_train)\n",
        "\n",
        "# predict on the test vectors\n",
        "predictions5 = lr.predict(X_testcv3)\n",
        "\n",
        "# evaluate model performance\n",
        "print(confusion_matrix(y_test, predictions5))\n",
        "print(classification_report(y_test, predictions5))"
      ],
      "execution_count": null,
      "outputs": [
        {
          "output_type": "stream",
          "name": "stdout",
          "text": [
            "[[ 290  928]\n",
            " [ 213 5362]]\n",
            "              precision    recall  f1-score   support\n",
            "\n",
            "           0       0.58      0.24      0.34      1218\n",
            "           1       0.85      0.96      0.90      5575\n",
            "\n",
            "    accuracy                           0.83      6793\n",
            "   macro avg       0.71      0.60      0.62      6793\n",
            "weighted avg       0.80      0.83      0.80      6793\n",
            "\n"
          ]
        }
      ]
    },
    {
      "cell_type": "markdown",
      "metadata": {
        "id": "nqSzL1zbLUlr"
      },
      "source": [
        "#### No Improvements!"
      ]
    },
    {
      "cell_type": "markdown",
      "metadata": {
        "id": "g8XN-GHLLXP5"
      },
      "source": [
        "### __Experiment 6: Adding Bag of Words based Features - 3-grams with Feature Selection__\n",
        "\n",
        "Setting `min_df` as 3 in CountVectorizer and keep other params same as the previous experiment and notice the drop in features.\n",
        "\n",
        "We drop all words \\ n-grams which occur less than 3 times in all documents.\n"
      ]
    },
    {
      "cell_type": "code",
      "metadata": {
        "id": "a2q0F0q-HZ0O"
      },
      "source": [
        "cv4 = CountVectorizer(min_df=3, max_df=10000, ngram_range=(1,3))\n",
        "\n",
        "X_traincv4 = cv4.fit_transform(train_clean_text)\n",
        "X_testcv4 = cv4.transform(test_clean_text)"
      ],
      "execution_count": null,
      "outputs": []
    },
    {
      "cell_type": "code",
      "metadata": {
        "id": "mXpcwJ0RHeDJ",
        "colab": {
          "base_uri": "https://localhost:8080/"
        },
        "outputId": "ebe1a6d2-b8e0-40c0-de1c-2f03f01a4348"
      },
      "source": [
        "X_traincv4"
      ],
      "execution_count": null,
      "outputs": [
        {
          "output_type": "execute_result",
          "data": {
            "text/plain": [
              "<15849x43845 sparse matrix of type '<class 'numpy.int64'>'\n",
              "\twith 744830 stored elements in Compressed Sparse Row format>"
            ]
          },
          "metadata": {},
          "execution_count": 831
        }
      ]
    },
    {
      "cell_type": "markdown",
      "metadata": {
        "id": "FICJeUze3Ebb"
      },
      "source": [
        "__Looks a bit better now__"
      ]
    },
    {
      "cell_type": "markdown",
      "metadata": {
        "id": "gDsVyUceIxmC"
      },
      "source": [
        "#### Model Training and Evaluation\n",
        "\n",
        "- Train model on training data\n",
        "- Make predictions on test data\n",
        "- Evaluate performance using confusion matrix and relevant metrics"
      ]
    },
    {
      "cell_type": "code",
      "metadata": {
        "id": "P5F1cuZTHgSY",
        "colab": {
          "base_uri": "https://localhost:8080/"
        },
        "outputId": "9ff31d22-dbc1-4d4a-ecf1-4dee9b07775d"
      },
      "source": [
        "# fit model here\n",
        "lr.fit(X_traincv4,y_train)\n",
        "\n",
        "# predict on the test vectors\n",
        "predictions6 = lr.predict(X_testcv4)\n",
        "\n",
        "# evaluate model performance\n",
        "print(confusion_matrix(y_test, predictions6))\n",
        "print(classification_report(y_test, predictions6))"
      ],
      "execution_count": null,
      "outputs": [
        {
          "output_type": "stream",
          "name": "stdout",
          "text": [
            "[[ 822  396]\n",
            " [ 235 5340]]\n",
            "              precision    recall  f1-score   support\n",
            "\n",
            "           0       0.78      0.67      0.72      1218\n",
            "           1       0.93      0.96      0.94      5575\n",
            "\n",
            "    accuracy                           0.91      6793\n",
            "   macro avg       0.85      0.82      0.83      6793\n",
            "weighted avg       0.90      0.91      0.90      6793\n",
            "\n"
          ]
        }
      ]
    },
    {
      "cell_type": "markdown",
      "metadata": {
        "id": "lIw0aG8ILnEU"
      },
      "source": [
        "### __Experiment 7: Combining Bag of Words based Features - 3-grams with Feature Selection and the Structured Features__\n",
        "\n",
        "Combining our sparse BOW feature matrices with our structured features from earlier.\n",
        "\n",
        "We do need to convert those structured features into sparse format so we can concatenate them to the BOW features!"
      ]
    },
    {
      "cell_type": "code",
      "metadata": {
        "id": "_5QG1rwAIN2g",
        "colab": {
          "base_uri": "https://localhost:8080/"
        },
        "outputId": "0fdf028e-1d34-4be4-dd82-2f6704580d67"
      },
      "source": [
        "X_traincv4"
      ],
      "execution_count": null,
      "outputs": [
        {
          "output_type": "execute_result",
          "data": {
            "text/plain": [
              "<15849x43845 sparse matrix of type '<class 'numpy.int64'>'\n",
              "\twith 744830 stored elements in Compressed Sparse Row format>"
            ]
          },
          "metadata": {},
          "execution_count": 833
        }
      ]
    },
    {
      "cell_type": "markdown",
      "metadata": {
        "id": "ujq8T11ZL-QF"
      },
      "source": [
        "#### Coverting dense features into sparse format"
      ]
    },
    {
      "cell_type": "code",
      "metadata": {
        "id": "xFGE6p93H9hd",
        "colab": {
          "base_uri": "https://localhost:8080/"
        },
        "outputId": "ac653ca5-0ec3-46d2-a8b3-09f5b10e0ffd"
      },
      "source": [
        "X_train_struct.values"
      ],
      "execution_count": null,
      "outputs": [
        {
          "output_type": "execute_result",
          "data": {
            "text/plain": [
              "array([[ 7.90000000e+01,  8.00000000e+00,  2.37379630e-01,\n",
              "         6.41259259e-01],\n",
              "       [ 3.20000000e+01,  3.00000000e+00,  2.60000000e-01,\n",
              "         4.00000000e-01],\n",
              "       [ 3.40000000e+01,  0.00000000e+00,  2.08854167e-01,\n",
              "         5.89583333e-01],\n",
              "       ...,\n",
              "       [ 3.20000000e+01,  0.00000000e+00,  1.10185185e-01,\n",
              "         4.76851852e-01],\n",
              "       [ 3.00000000e+01,  1.00000000e+00, -1.85185185e-03,\n",
              "         3.91666667e-01],\n",
              "       [ 3.40000000e+01,  9.00000000e+00, -1.84000000e-01,\n",
              "         6.90000000e-01]])"
            ]
          },
          "metadata": {},
          "execution_count": 834
        }
      ]
    },
    {
      "cell_type": "code",
      "metadata": {
        "id": "PU7E9_dMH_gI"
      },
      "source": [
        "from scipy import sparse"
      ],
      "execution_count": null,
      "outputs": []
    },
    {
      "cell_type": "code",
      "metadata": {
        "id": "291TPPPXIK1m",
        "colab": {
          "base_uri": "https://localhost:8080/"
        },
        "outputId": "02619f41-e49c-4991-8e80-fe90ab25bd5a"
      },
      "source": [
        "X_train_struct_sparse = sparse.csr_matrix(X_train_struct)\n",
        "X_train_struct_sparse"
      ],
      "execution_count": null,
      "outputs": [
        {
          "output_type": "execute_result",
          "data": {
            "text/plain": [
              "<15849x4 sparse matrix of type '<class 'numpy.float64'>'\n",
              "\twith 56109 stored elements in Compressed Sparse Row format>"
            ]
          },
          "metadata": {},
          "execution_count": 836
        }
      ]
    },
    {
      "cell_type": "code",
      "metadata": {
        "colab": {
          "base_uri": "https://localhost:8080/"
        },
        "id": "OosGJiD34qEs",
        "outputId": "6d78542a-b551-463d-9e03-24abc2192f75"
      },
      "source": [
        "X_test_struct_sparse = sparse.csr_matrix(X_test_struct)\n",
        "X_test_struct_sparse"
      ],
      "execution_count": null,
      "outputs": [
        {
          "output_type": "execute_result",
          "data": {
            "text/plain": [
              "<6793x4 sparse matrix of type '<class 'numpy.float64'>'\n",
              "\twith 24006 stored elements in Compressed Sparse Row format>"
            ]
          },
          "metadata": {},
          "execution_count": 837
        }
      ]
    },
    {
      "cell_type": "markdown",
      "metadata": {
        "id": "iXBpbDn13P5I"
      },
      "source": [
        "__Nice! This enables us to convert dense structured features (Age, Feedback count, polarity, subjectivity) into sparse format__"
      ]
    },
    {
      "cell_type": "markdown",
      "metadata": {
        "id": "ZPi-CLIdL4Rb"
      },
      "source": [
        "#### __Combine the features using `hstack`__\n",
        "\n",
        "Combine already sparse features of BOW with the structured features after converting them into sparse format)"
      ]
    },
    {
      "cell_type": "code",
      "metadata": {
        "id": "xh5oVu2KIRfe"
      },
      "source": [
        "from scipy.sparse import hstack\n",
        "\n",
        "X_train_combined = hstack((X_traincv4,X_train_struct_sparse))\n",
        "X_test_combined = hstack((X_testcv4,X_test_struct_sparse))"
      ],
      "execution_count": null,
      "outputs": []
    },
    {
      "cell_type": "code",
      "metadata": {
        "id": "Zz2b7BCJIiEq",
        "colab": {
          "base_uri": "https://localhost:8080/"
        },
        "outputId": "bef8f440-bfe9-42aa-8c22-cacc0671e2b6"
      },
      "source": [
        "X_train_combined"
      ],
      "execution_count": null,
      "outputs": [
        {
          "output_type": "execute_result",
          "data": {
            "text/plain": [
              "<15849x43849 sparse matrix of type '<class 'numpy.float64'>'\n",
              "\twith 800939 stored elements in COOrdinate format>"
            ]
          },
          "metadata": {},
          "execution_count": 839
        }
      ]
    },
    {
      "cell_type": "markdown",
      "metadata": {
        "id": "nV5CdSmyIn_a"
      },
      "source": [
        "#### Model Training and Evaluation\n",
        "\n",
        "- Train model on training data\n",
        "- Make predictions on test data\n",
        "- Evaluate performance using confusion matrix and relevant metrics"
      ]
    },
    {
      "cell_type": "code",
      "metadata": {
        "id": "gbi-bWWcIn_y",
        "colab": {
          "base_uri": "https://localhost:8080/"
        },
        "outputId": "05e570af-47ce-41a5-fa85-b9462ccbf560"
      },
      "source": [
        "# fit model here\n",
        "lr.fit(X_train_combined,y_train)\n",
        "\n",
        "# predict on the test vectors\n",
        "predictions7 = lr.predict(X_test_combined)\n",
        "\n",
        "# evaluate model performance\n",
        "print(confusion_matrix(y_test, predictions7))\n",
        "print(classification_report(y_test, predictions7))"
      ],
      "execution_count": null,
      "outputs": [
        {
          "output_type": "stream",
          "name": "stdout",
          "text": [
            "[[ 827  391]\n",
            " [ 237 5338]]\n",
            "              precision    recall  f1-score   support\n",
            "\n",
            "           0       0.78      0.68      0.72      1218\n",
            "           1       0.93      0.96      0.94      5575\n",
            "\n",
            "    accuracy                           0.91      6793\n",
            "   macro avg       0.85      0.82      0.83      6793\n",
            "weighted avg       0.90      0.91      0.91      6793\n",
            "\n"
          ]
        }
      ]
    },
    {
      "cell_type": "markdown",
      "metadata": {
        "id": "thOsbtsvkb70"
      },
      "source": [
        "### __Experiment 8: Combining TF-IDF based Features - 3-grams with Feature Selection and the Structured Features__\n",
        "\n",
        "Repeating a similar experiment as __Experiment 7__ but with TF-IDF features"
      ]
    },
    {
      "cell_type": "code",
      "metadata": {
        "id": "V-uTK-ovctOw"
      },
      "source": [
        "from sklearn.feature_extraction.text import TfidfVectorizer\n",
        "\n",
        "tv = TfidfVectorizer(min_df=0, max_df=1, ngram_range=(1,3), use_idf=True)\n",
        "\n",
        "X_traintv = tv.fit_transform(train_clean_text)\n",
        "X_testtv = tv.transform(test_clean_text)"
      ],
      "execution_count": null,
      "outputs": []
    },
    {
      "cell_type": "markdown",
      "metadata": {
        "id": "birinrxiJo_W"
      },
      "source": [
        "Combine sparse TFIDF feature matrices with structured features from earlier.\n",
        "\n",
        "Need to convert those structured features into sparse format so we can concatenate them to the TFIDF features!"
      ]
    },
    {
      "cell_type": "code",
      "metadata": {
        "id": "I_7zHDC_JyuF"
      },
      "source": [
        "from scipy.sparse import hstack\n",
        "\n",
        "X_train_combined = hstack((X_traintv,X_train_struct_sparse))\n",
        "X_test_combined = hstack((X_testtv,X_test_struct_sparse))"
      ],
      "execution_count": null,
      "outputs": []
    },
    {
      "cell_type": "code",
      "metadata": {
        "id": "w3uV3OjdJyuG",
        "colab": {
          "base_uri": "https://localhost:8080/"
        },
        "outputId": "72ffb8af-5f6b-452d-ae04-a99200cc91a1"
      },
      "source": [
        "X_train_combined"
      ],
      "execution_count": null,
      "outputs": [
        {
          "output_type": "execute_result",
          "data": {
            "text/plain": [
              "<15849x572538 sparse matrix of type '<class 'numpy.float64'>'\n",
              "\twith 628643 stored elements in COOrdinate format>"
            ]
          },
          "metadata": {},
          "execution_count": 843
        }
      ]
    },
    {
      "cell_type": "markdown",
      "metadata": {
        "id": "Brx03aovJyuJ"
      },
      "source": [
        "#### Model Training and Evaluation\n",
        "\n",
        "- Train model on training data\n",
        "- Make predictions on test data\n",
        "- Evaluate performance using confusion matrix and relevant metrics"
      ]
    },
    {
      "cell_type": "code",
      "metadata": {
        "id": "oN5XeUd-JyuK",
        "colab": {
          "base_uri": "https://localhost:8080/"
        },
        "outputId": "97d3b88e-d961-4aeb-aef5-ad462c69b7d6"
      },
      "source": [
        "# fit model here\n",
        "lr.fit(X_train_combined,y_train)\n",
        "\n",
        "# predict on the test vectors\n",
        "predictions8 = lr.predict(X_test_combined)\n",
        "\n",
        "# evaluate model performance\n",
        "print(confusion_matrix(y_test, predictions8))\n",
        "print(classification_report(y_test, predictions8))"
      ],
      "execution_count": null,
      "outputs": [
        {
          "output_type": "stream",
          "name": "stdout",
          "text": [
            "[[ 170 1048]\n",
            " [  87 5488]]\n",
            "              precision    recall  f1-score   support\n",
            "\n",
            "           0       0.66      0.14      0.23      1218\n",
            "           1       0.84      0.98      0.91      5575\n",
            "\n",
            "    accuracy                           0.83      6793\n",
            "   macro avg       0.75      0.56      0.57      6793\n",
            "weighted avg       0.81      0.83      0.79      6793\n",
            "\n"
          ]
        }
      ]
    },
    {
      "cell_type": "code",
      "metadata": {
        "id": "ZX6ZDeuXO7iw"
      },
      "source": [
        "# Code for listing and viewing feature importance\n",
        "#from matplotlib import pyplot\n",
        "# get importance\n",
        "#importance = lr.coef_[0]\n",
        "# summarize feature importance\n",
        "#for i,v in enumerate(importance):\n",
        "#\tprint('Feature: %0d, Score: %.5f' % (i,v))\n",
        "# plot feature importance\n",
        "#pyplot.bar([x for x in range(len(importance))], importance)\n",
        "#pyplot.show()"
      ],
      "execution_count": null,
      "outputs": []
    },
    {
      "cell_type": "markdown",
      "metadata": {
        "id": "iRpu40uoKJfZ"
      },
      "source": [
        "## Initial Model Performance Evaluation and Recommendations__\n",
        "\n",
        "The Experiments which fared the best were in this descending order with the first being the best :\n",
        "\n",
        "1. Experiment 7: BOW features (3-gram) + Feature Selection + Structured Features (Age and Feedback Count) + Logistic Regression\n",
        "2. Experiment 6: BOW features (3-gram) + Feature Selection + Logistic Regression\n",
        "3. Experiment 4: BOW features (2-gram) + Logistic Regression\n",
        "\n",
        "The metrics used to assess the models were precision ,recall, f1-score, accuracy, confusion matrix. More details are given the accompanying report."
      ]
    },
    {
      "cell_type": "markdown",
      "metadata": {
        "id": "Kqye3CQKL7lR"
      },
      "source": [
        "## Some more complex classification models__\n",
        "\n",
        "Picking up the best combination of experiments from above and switching out logistic regression with other model complex classification models and evaluating the model performance!\n"
      ]
    },
    {
      "cell_type": "markdown",
      "metadata": {
        "id": "c-y44SdS5tOJ"
      },
      "source": [
        "#### Create feature vectors to feed into model"
      ]
    },
    {
      "cell_type": "code",
      "metadata": {
        "id": "ZeGwBtztJ3aA"
      },
      "source": [
        "from scipy.sparse import hstack\n",
        "\n",
        "X_train_combined2 = hstack((X_traincv4,X_train_struct_sparse))\n",
        "X_test_combined2 = hstack((X_testcv4,X_test_struct_sparse))"
      ],
      "execution_count": null,
      "outputs": []
    },
    {
      "cell_type": "markdown",
      "metadata": {
        "id": "bbmqJU2gNQY_"
      },
      "source": [
        "#### Model Training and Evaluation\n",
        "\n",
        "Try different models using the same methodology of:\n",
        "\n",
        "- Train model on training data\n",
        "- Make predictions on test data\n",
        "- Evaluate performance using confusion matrix and relevant metrics"
      ]
    },
    {
      "cell_type": "code",
      "metadata": {
        "id": "k-vRs4_wNQZA",
        "colab": {
          "base_uri": "https://localhost:8080/"
        },
        "outputId": "8b35edf6-8636-4e49-c648-839032c28a24"
      },
      "source": [
        "from sklearn.ensemble import RandomForestClassifier\n",
        "\n",
        "# instantiate model\n",
        "rf = RandomForestClassifier(n_estimators=100, n_jobs=-1, random_state=42)\n",
        "\n",
        "# fit model here\n",
        "rf.fit(X_train_combined2,y_train)\n",
        "\n",
        "# predict on the test vectors\n",
        "predictions9 = rf.predict(X_test_combined2)\n",
        "\n",
        "# evaluate model performance\n",
        "print(confusion_matrix(y_test, predictions9))\n",
        "print(classification_report(y_test, predictions9))"
      ],
      "execution_count": null,
      "outputs": [
        {
          "output_type": "stream",
          "name": "stdout",
          "text": [
            "[[ 356  862]\n",
            " [  46 5529]]\n",
            "              precision    recall  f1-score   support\n",
            "\n",
            "           0       0.89      0.29      0.44      1218\n",
            "           1       0.87      0.99      0.92      5575\n",
            "\n",
            "    accuracy                           0.87      6793\n",
            "   macro avg       0.88      0.64      0.68      6793\n",
            "weighted avg       0.87      0.87      0.84      6793\n",
            "\n"
          ]
        }
      ]
    },
    {
      "cell_type": "markdown",
      "metadata": {
        "id": "3CwjUmm7orP7"
      },
      "source": [
        "# ___Phase 4: Evaluation, Insights, Recommendations and Report___"
      ]
    },
    {
      "cell_type": "markdown",
      "metadata": {
        "id": "GkCCJg5POjeV"
      },
      "source": [
        "## __Final Model Performance Evaluation and Recommendation__\n",
        "\n",
        "\n",
        "Looking at the metrics, confusion and classification matrix and the total features used, Experiment 7 seems to give the best prediction performance. More details are given the accompanying report\n"
      ]
    },
    {
      "cell_type": "markdown",
      "metadata": {
        "id": "7AROFzMvRGES"
      },
      "source": [
        "## __Basic Model Interpretation__\n",
        "\n",
        "Revisiting our simple yet effective logistic regression model from Experiment 7.\n",
        "\n",
        "__Rebuild the same model below based on the sequence of steps followed in Exp 7__"
      ]
    },
    {
      "cell_type": "code",
      "metadata": {
        "id": "I6cIdRPuOZO6",
        "colab": {
          "base_uri": "https://localhost:8080/"
        },
        "outputId": "46a8b4c7-9bb1-404d-a641-e01a793d83cc"
      },
      "source": [
        "# BOW vectorization with feature selection\n",
        "\n",
        "cv5 = CountVectorizer(min_df=3, max_df=10000, ngram_range=(1,3))\n",
        "\n",
        "X_traincv5 = cv5.fit_transform(train_clean_text)\n",
        "X_testcv5 = cv5.transform(test_clean_text)\n",
        "\n",
        "# Combine BOW features with structured features\n",
        "\n",
        "from scipy.sparse import hstack\n",
        "\n",
        "X_train_combined_final = hstack((X_traincv5,X_train_struct_sparse))\n",
        "X_test_combined_final = hstack((X_testcv5,X_test_struct_sparse))\n",
        "\n",
        "# Train and evaluate Logistic Regression model\n",
        "\n",
        "# fit model here\n",
        "lr.fit(X_train_combined_final,y_train)\n",
        "\n",
        "# predict on the test vectors\n",
        "predictions10 = lr.predict(X_test_combined_final)\n",
        "\n",
        "# evaluate model performance\n",
        "\n",
        "print(confusion_matrix(y_test, predictions10))\n",
        "print(classification_report(y_test, predictions10))"
      ],
      "execution_count": null,
      "outputs": [
        {
          "output_type": "stream",
          "name": "stdout",
          "text": [
            "[[ 827  391]\n",
            " [ 237 5338]]\n",
            "              precision    recall  f1-score   support\n",
            "\n",
            "           0       0.78      0.68      0.72      1218\n",
            "           1       0.93      0.96      0.94      5575\n",
            "\n",
            "    accuracy                           0.91      6793\n",
            "   macro avg       0.85      0.82      0.83      6793\n",
            "weighted avg       0.90      0.91      0.91      6793\n",
            "\n"
          ]
        }
      ]
    },
    {
      "cell_type": "markdown",
      "metadata": {
        "id": "5mPyxbPXRx4Z"
      },
      "source": [
        "__Get the actual feature names of the features used in this model__"
      ]
    },
    {
      "cell_type": "code",
      "metadata": {
        "id": "vRPKv9VEPTrJ",
        "colab": {
          "base_uri": "https://localhost:8080/"
        },
        "outputId": "2079acd2-5d1a-4803-9e4c-85d1dc38c977"
      },
      "source": [
        "features_names = np.array(X_train_struct.columns.tolist() + cv5.get_feature_names())\n",
        "print(features_names)"
      ],
      "execution_count": null,
      "outputs": [
        {
          "output_type": "stream",
          "name": "stdout",
          "text": [
            "['Age' 'Positive Feedback Count' 'Polarity' ... 'zips' 'zone' 'zoom']\n"
          ]
        }
      ]
    },
    {
      "cell_type": "markdown",
      "metadata": {
        "id": "QN_UMdeiR772"
      },
      "source": [
        "__Get top 20 feature indices with negative coefficients and top 20 features with positive coefficients__\n"
      ]
    },
    {
      "cell_type": "code",
      "metadata": {
        "id": "zduEutXUPG_Y"
      },
      "source": [
        "# coefficient dictionaery\n",
        "coef_dict = {}\n",
        "for coef, feat in zip(lr.coef_[0,:],features_names):\n",
        "    coef_dict[feat] = coef"
      ],
      "execution_count": null,
      "outputs": []
    },
    {
      "cell_type": "code",
      "metadata": {
        "colab": {
          "base_uri": "https://localhost:8080/"
        },
        "id": "0Sf-A3bU9APM",
        "outputId": "c19542a6-899d-44a3-bf30-646412daafad"
      },
      "source": [
        "# top 20 feature indices with negative coefficients\n",
        "coeff = lr.coef_\n",
        "fs1=coeff.argsort()[:20]\n",
        "print(fs1)\n"
      ],
      "execution_count": null,
      "outputs": [
        {
          "output_type": "stream",
          "name": "stdout",
          "text": [
            "[[40818 39869 24504 ...  8325 39943 43847]]\n"
          ]
        }
      ]
    },
    {
      "cell_type": "code",
      "metadata": {
        "colab": {
          "base_uri": "https://localhost:8080/"
        },
        "id": "d6oGV2ZRrYgo",
        "outputId": "eac48e51-16f3-4ca1-95a2-921505569a87"
      },
      "source": [
        "# top 20 feature indices with positive coefficients\n",
        "fs1=(coeff).argsort()[::-1][:20]\n",
        "print(fs2)"
      ],
      "execution_count": null,
      "outputs": [
        {
          "output_type": "stream",
          "name": "stdout",
          "text": [
            "[[41710 27316 41969 ... 13667 43848 43308]]\n"
          ]
        }
      ]
    },
    {
      "cell_type": "markdown",
      "metadata": {
        "id": "tjl7SWaZSQAU"
      },
      "source": [
        "__Print top 20 features with negative coefficients based on the indices obtained__"
      ]
    },
    {
      "cell_type": "code",
      "metadata": {
        "id": "8lIi-1DsPSIB",
        "colab": {
          "base_uri": "https://localhost:8080/"
        },
        "outputId": "7395aa3e-4595-4caf-b9c0-3512b15f367c"
      },
      "source": [
        "# map index to features_names\n",
        "desc_feature_negative = [features_names[i] for i in fs1]\n",
        "print(desc_feature_negative)"
      ],
      "execution_count": null,
      "outputs": [
        {
          "output_type": "stream",
          "name": "stdout",
          "text": [
            "[array(['wanted look', 'unexpected surprise', 'not flat', ..., 'daythis',\n",
            "       'unfortunately went', 'zone'], dtype='<U32')]\n"
          ]
        }
      ]
    },
    {
      "cell_type": "markdown",
      "metadata": {
        "id": "Vo9wSCpvSXGr"
      },
      "source": [
        "__Print sample reviews for each of the 20 negative coefficient features__\n",
        "\n",
        "If the feature belongs to one of the structured columns print __\"This is a feature from the structured features\"__\n",
        "\n",
        "If the feature belongs to one of the features (words \\ ngrams) from BOW features, print the __first 3 reviews which contain that feature (word or n-gram)__ from the __Clean Review__ column in the __`X_train`__ DataFrame"
      ]
    },
    {
      "cell_type": "code",
      "metadata": {
        "id": "Pg9iSjW0QQhk"
      },
      "source": [
        "import re\n",
        "\n",
        "\n",
        "  "
      ],
      "execution_count": null,
      "outputs": []
    },
    {
      "cell_type": "markdown",
      "metadata": {
        "id": "B5DphMybSz5q"
      },
      "source": [
        "__Print top 20 features with positive coefficients based on the indices you obtained__"
      ]
    },
    {
      "cell_type": "code",
      "metadata": {
        "id": "Bdk4rq3BPoOg",
        "colab": {
          "base_uri": "https://localhost:8080/"
        },
        "outputId": "ad924feb-8577-4829-a1af-06d6694e7534"
      },
      "source": [
        "# map index to features_names\n",
        "desc_feature_postive = [features_names[i] for i in fs2]\n",
        "print(desc_feature_postive)"
      ],
      "execution_count": null,
      "outputs": [
        {
          "output_type": "stream",
          "name": "stdout",
          "text": [
            "[array(['weather love', 'perfectioni', 'well made great', ...,\n",
            "       'fluid feel', 'zoom', 'would say top'], dtype='<U32')]\n"
          ]
        }
      ]
    },
    {
      "cell_type": "markdown",
      "metadata": {
        "id": "txMp6e1O7pId"
      },
      "source": [
        "## __Refer to Final Report__\n",
        "\n"
      ]
    }
  ]
}